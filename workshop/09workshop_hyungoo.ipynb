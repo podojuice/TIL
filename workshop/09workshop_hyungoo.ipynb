{
 "cells": [
  {
   "cell_type": "markdown",
   "metadata": {},
   "source": [
    "# 09workshop"
   ]
  },
  {
   "cell_type": "markdown",
   "metadata": {},
   "source": [
    "클릭하면 https://www.ssafy.com/ 로 이동하는 버튼을 만드시오.\n"
   ]
  },
  {
   "cell_type": "code",
   "execution_count": 1,
   "metadata": {},
   "outputs": [],
   "source": [
    "# <a href=\"https://www.ssafy.com/\">ssafy 홈페이지로 이동하는 버튼</a>"
   ]
  },
  {
   "cell_type": "markdown",
   "metadata": {},
   "source": [
    "다음 태그에서 잘못된 부분을 찾으시오.\n"
   ]
  },
  {
   "cell_type": "code",
   "execution_count": 2,
   "metadata": {},
   "outputs": [],
   "source": [
    "#<img href=\"https://www.google.com/\" alt=\"GOOGLE\">\n",
    "#img는 사진을 넣기 위해 존재하는 태그인데, href를 구글 주소로 지정해준 부분이 잘못됐다."
   ]
  },
  {
   "cell_type": "markdown",
   "metadata": {},
   "source": [
    "당신은 현재 Resume.html 에서 작업중이다. “내 사진” 이라는 링크를 누르면\n",
    "Image 폴더 안에 my_photo를띄워주는 a 태그 경로를 넣으시오.\n"
   ]
  },
  {
   "cell_type": "code",
   "execution_count": null,
   "metadata": {},
   "outputs": [],
   "source": [
    "# <a href=\"../../image/my_photo.png\">내 사진</a>"
   ]
  }
 ],
 "metadata": {
  "kernelspec": {
   "display_name": "Python 3",
   "language": "python",
   "name": "python3"
  },
  "language_info": {
   "codemirror_mode": {
    "name": "ipython",
    "version": 3
   },
   "file_extension": ".py",
   "mimetype": "text/x-python",
   "name": "python",
   "nbconvert_exporter": "python",
   "pygments_lexer": "ipython3",
   "version": "3.6.7"
  }
 },
 "nbformat": 4,
 "nbformat_minor": 2
}

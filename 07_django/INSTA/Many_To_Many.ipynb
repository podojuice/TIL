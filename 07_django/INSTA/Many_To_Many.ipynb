{
 "cells": [
  {
   "cell_type": "markdown",
   "metadata": {},
   "source": [
    "# Many To Many Relations\n",
    "\n",
    "## Student\n",
    "\n",
    "| id(PK) | name      |\n",
    "| ------ | --------- |\n",
    "| INT    | CharField |\n",
    "\n",
    "## Enroll\n",
    "\n",
    "| id(PK) | student_id(FK - Student) | lecture_id(FK - Lecture) |\n",
    "| ------ | ------------------------ | ------------------------ |\n",
    "| INT    | INT                      | INT                      |\n",
    "\n",
    "## Lecture\n",
    "\n",
    "| id(PK) | title     |\n",
    "| ------ | --------- |\n",
    "| INT    | CharField |\n",
    "\n"
   ]
  },
  {
   "cell_type": "code",
   "execution_count": 17,
   "metadata": {},
   "outputs": [
    {
     "data": {
      "text/plain": [
       "<Student: 8: 최학생>"
      ]
     },
     "execution_count": 17,
     "metadata": {},
     "output_type": "execute_result"
    }
   ],
   "source": [
    "# Student.objects.create(name='김학생')\n",
    "# Student.objects.create(name='이학생')\n",
    "# Student.objects.create(name='박학생')\n",
    "# Student.objects.create(name='최학생')"
   ]
  },
  {
   "cell_type": "code",
   "execution_count": 18,
   "metadata": {},
   "outputs": [
    {
     "data": {
      "text/plain": [
       "<QuerySet [<Student: 5: 김학생>, <Student: 6: 이학생>, <Student: 7: 박학생>, <Student: 8: 최학생>]>"
      ]
     },
     "execution_count": 18,
     "metadata": {},
     "output_type": "execute_result"
    }
   ],
   "source": [
    "Student.objects.all()"
   ]
  },
  {
   "cell_type": "code",
   "execution_count": 101,
   "metadata": {},
   "outputs": [
    {
     "data": {
      "text/plain": [
       "<Lecture: 4: 서양고대사>"
      ]
     },
     "execution_count": 101,
     "metadata": {},
     "output_type": "execute_result"
    }
   ],
   "source": [
    "# Lecture.objects.create(title='역사')\n",
    "# Lecture.objects.create(title='컴퓨터')\n",
    "# Lecture.objects.create(title='중세교회와세속문화')\n",
    "# Lecture.objects.create(title='서양고대사')"
   ]
  },
  {
   "cell_type": "code",
   "execution_count": 20,
   "metadata": {},
   "outputs": [
    {
     "data": {
      "text/plain": [
       "<QuerySet [<Lecture: 1: 역사>, <Lecture: 2: 컴퓨터>]>"
      ]
     },
     "execution_count": 20,
     "metadata": {},
     "output_type": "execute_result"
    }
   ],
   "source": [
    "Lecture.objects.all()"
   ]
  },
  {
   "cell_type": "code",
   "execution_count": 105,
   "metadata": {},
   "outputs": [
    {
     "data": {
      "text/plain": [
       "<Enroll: 5 - 김학생: 서양고대사>"
      ]
     },
     "execution_count": 105,
     "metadata": {},
     "output_type": "execute_result"
    }
   ],
   "source": [
    "# Enroll.objects.create(student_id=5, lecture_id=1)\n",
    "# Enroll.objects.create(student_id=5, lecture_id=2)\n",
    "# Enroll.objects.create(student_id=6, lecture_id=1)\n",
    "# Enroll.objects.create(student_id=5, lecture_id=3)\n",
    "# Enroll.objects.create(student_id=5, lecture_id=4)"
   ]
  },
  {
   "cell_type": "code",
   "execution_count": 73,
   "metadata": {},
   "outputs": [
    {
     "data": {
      "text/plain": [
       "3"
      ]
     },
     "execution_count": 73,
     "metadata": {},
     "output_type": "execute_result"
    }
   ],
   "source": [
    "Enroll.objects.all().count()"
   ]
  },
  {
   "cell_type": "code",
   "execution_count": 77,
   "metadata": {},
   "outputs": [
    {
     "ename": "AttributeError",
     "evalue": "'QuerySet' object has no attribute 'lecture'",
     "output_type": "error",
     "traceback": [
      "\u001b[1;31m---------------------------------------------------------------------------\u001b[0m",
      "\u001b[1;31mAttributeError\u001b[0m                            Traceback (most recent call last)",
      "\u001b[1;32m<ipython-input-77-2a6c69cc20f6>\u001b[0m in \u001b[0;36m<module>\u001b[1;34m\u001b[0m\n\u001b[1;32m----> 1\u001b[1;33m \u001b[0mEnroll\u001b[0m\u001b[1;33m.\u001b[0m\u001b[0mobjects\u001b[0m\u001b[1;33m.\u001b[0m\u001b[0mfilter\u001b[0m\u001b[1;33m(\u001b[0m\u001b[0mstudent_id\u001b[0m\u001b[1;33m=\u001b[0m\u001b[1;36m5\u001b[0m\u001b[1;33m)\u001b[0m\u001b[1;33m.\u001b[0m\u001b[0mlecture\u001b[0m\u001b[1;33m\u001b[0m\u001b[1;33m\u001b[0m\u001b[0m\n\u001b[0m",
      "\u001b[1;31mAttributeError\u001b[0m: 'QuerySet' object has no attribute 'lecture'"
     ]
    }
   ],
   "source": [
    "Enroll.objects.filter(student_id=5)"
   ]
  },
  {
   "cell_type": "code",
   "execution_count": 72,
   "metadata": {},
   "outputs": [
    {
     "data": {
      "text/plain": [
       "<QuerySet [<Enroll: 1 - 김학생: 역사>, <Enroll: 2 - 김학생: 컴퓨터>]>"
      ]
     },
     "execution_count": 72,
     "metadata": {},
     "output_type": "execute_result"
    }
   ],
   "source": [
    "Enroll.objects.filter(student=Enroll.objects.all()[0].student.id)"
   ]
  },
  {
   "cell_type": "code",
   "execution_count": 78,
   "metadata": {},
   "outputs": [
    {
     "data": {
      "text/plain": [
       "<QuerySet [<Enroll: 1 - 김학생: 역사>, <Enroll: 2 - 김학생: 컴퓨터>]>"
      ]
     },
     "execution_count": 78,
     "metadata": {},
     "output_type": "execute_result"
    }
   ],
   "source": [
    "김학생 = Student.objects.get(name='김학생')\n",
    "김학생.enroll_set.all()"
   ]
  },
  {
   "cell_type": "code",
   "execution_count": 81,
   "metadata": {},
   "outputs": [
    {
     "data": {
      "text/plain": [
       "'역사'"
      ]
     },
     "execution_count": 81,
     "metadata": {},
     "output_type": "execute_result"
    }
   ],
   "source": [
    "김학생.enroll_set.all()[0].lecture.title"
   ]
  },
  {
   "cell_type": "code",
   "execution_count": 89,
   "metadata": {},
   "outputs": [
    {
     "data": {
      "text/plain": [
       "<Enroll: 1 - 김학생: 역사>"
      ]
     },
     "execution_count": 89,
     "metadata": {},
     "output_type": "execute_result"
    }
   ],
   "source": [
    "student = Student.objects.get(name='김학생')\n",
    "수강1 = student.enroll_set.first()\n",
    "수강2 = student.enroll_set.last()\n",
    "수강1"
   ]
  },
  {
   "cell_type": "code",
   "execution_count": 100,
   "metadata": {},
   "outputs": [
    {
     "name": "stdout",
     "output_type": "stream",
     "text": [
      "역사\n",
      "컴퓨터\n"
     ]
    }
   ],
   "source": [
    "student = Student.objects.get(name='김학생')\n",
    "\n",
    "for i in range(student.enroll_set.all().count()):\n",
    "    print(Enroll.objects.filter(student = student)[i].lecture.title)"
   ]
  },
  {
   "cell_type": "code",
   "execution_count": 106,
   "metadata": {},
   "outputs": [
    {
     "name": "stdout",
     "output_type": "stream",
     "text": [
      "중세교회와세속문화\n",
      "서양고대사\n"
     ]
    }
   ],
   "source": [
    "for i in student.enroll_set.all():\n",
    "    key = i.lecture.title\n",
    "    if len(key) >=5:\n",
    "        print(key)"
   ]
  },
  {
   "cell_type": "code",
   "execution_count": 11,
   "metadata": {},
   "outputs": [
    {
     "data": {
      "text/plain": [
       "<QuerySet [{'id': 1, 'name': 'Moore, Ferguson and Bauer'}, {'id': 2, 'name': 'Knight-Hudson'}, {'id': 3, 'name': 'Johnson-Moon'}, {'id': 4, 'name': 'Higgins-Hamilton'}, {'id': 5, 'name': 'Calhoun Inc'}, {'id': 6, 'name': 'Kim PLC'}, {'id': 7, 'name': 'Beck, Roberts and Castro'}, {'id': 8, 'name': 'Robinson-Chambers'}, {'id': 9, 'name': 'Proctor-Jones'}, {'id': 10, 'name': 'Marsh-Palmer'}, {'id': 11, 'name': 'Smith LLC'}]>"
      ]
     },
     "execution_count": 11,
     "metadata": {},
     "output_type": "execute_result"
    }
   ],
   "source": [
    "Hotel.objects.all().values('id', 'name')"
   ]
  },
  {
   "cell_type": "code",
   "execution_count": 19,
   "metadata": {},
   "outputs": [
    {
     "data": {
      "text/plain": [
       "<QuerySet [<Client: 1: Elizabeth Alexander>, <Client: 2: William Robinson>, <Client: 3: Carla Wang>, <Client: 4: Ariana Barton>, <Client: 5: Lance Freeman>, <Client: 6: David Collier>, <Client: 7: Dawn Phillips>, <Client: 8: Jason Brown>, <Client: 9: Julie Hall>, <Client: 10: Peter Brown>, <Client: 11: Sylvia Clements>]>"
      ]
     },
     "execution_count": 19,
     "metadata": {},
     "output_type": "execute_result"
    }
   ],
   "source": [
    "Client.objects.all()"
   ]
  },
  {
   "cell_type": "code",
   "execution_count": 17,
   "metadata": {},
   "outputs": [],
   "source": [
    "new_hotel=Hotel.objects.last()\n",
    "new_hotel.clients.add(\n",
    "    Client.objects.get(id=3),\n",
    "    Client.objects.get(id=5),\n",
    "    Client.objects.get(id=7)\n",
    ")"
   ]
  },
  {
   "cell_type": "code",
   "execution_count": 29,
   "metadata": {},
   "outputs": [
    {
     "data": {
      "text/plain": [
       "<QuerySet [<Client: 7: Dawn Phillips>]>"
      ]
     },
     "execution_count": 29,
     "metadata": {},
     "output_type": "execute_result"
    }
   ],
   "source": [
    "new_hotel.clients.all().filter(name__contains='h')"
   ]
  },
  {
   "cell_type": "code",
   "execution_count": 31,
   "metadata": {},
   "outputs": [],
   "source": [
    "client = Client.objects.get(id=3)\n",
    "client.hotel_set.add(Hotel.objects.get(id=2), Hotel.objects.get(id=4))"
   ]
  },
  {
   "cell_type": "code",
   "execution_count": 33,
   "metadata": {},
   "outputs": [
    {
     "data": {
      "text/plain": [
       "<QuerySet [{'name': 'Knight-Hudson'}, {'name': 'Smith LLC'}, {'name': 'Higgins-Hamilton'}]>"
      ]
     },
     "execution_count": 33,
     "metadata": {},
     "output_type": "execute_result"
    }
   ],
   "source": [
    "client.hotel_set.all().values('name')"
   ]
  }
 ],
 "metadata": {
  "kernelspec": {
   "display_name": "Django Shell-Plus",
   "language": "python",
   "name": "django_extensions"
  },
  "language_info": {
   "codemirror_mode": {
    "name": "ipython",
    "version": 3
   },
   "file_extension": ".py",
   "mimetype": "text/x-python",
   "name": "python",
   "nbconvert_exporter": "python",
   "pygments_lexer": "ipython3",
   "version": "3.7.1"
  }
 },
 "nbformat": 4,
 "nbformat_minor": 2
}

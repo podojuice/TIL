{
 "cells": [
  {
   "cell_type": "code",
   "execution_count": 21,
   "metadata": {},
   "outputs": [
    {
     "name": "stdout",
     "output_type": "stream",
     "text": [
      "{'lastBuildDate': 'Fri, 18 Jan 2019 15:49:21 +0900', 'total': 1, 'start': 1, 'display': 1, 'items': [{'title': '<b>말모이</b>', 'link': 'https://movie.naver.com/movie/bi/mi/basic.nhn?code=167699', 'image': 'https://ssl.pstatic.net/imgmovie/mdi/mit110/1676/167699_P40_175859.jpg', 'subtitle': 'MAL·MO·E: The Secret Mission', 'pubDate': '2018', 'director': '엄유나|', 'actor': '유해진|윤계상|', 'userRating': '9.04'}]}\n"
     ]
    }
   ],
   "source": [
    "import requests\n",
    "\n",
    "movies = ['말모이']\n",
    "\n",
    "naver_uri = 'https://openapi.naver.com/v1/search/movie.json?query='\n",
    "\n",
    "client_id = 'jaABkZc1n4M0x7c5kCcP'\n",
    "client_secret = 'OJr0EvId4F'\n",
    "headers = {\n",
    "    'X-Naver-Client-Id': client_id, \n",
    "    'X-Naver-Client-Secret': client_secret\n",
    "\n",
    "}\n",
    "\n",
    "res = requests.get(naver_uri + movies[0], headers = headers)\n",
    "data = res.json()\n",
    "print(data)"
   ]
  },
  {
   "cell_type": "code",
   "execution_count": 22,
   "metadata": {},
   "outputs": [],
   "source": [
    "result = []\n",
    "for movie in movies:\n",
    "    data_set = requests.get(naver_uri + movie, headers = headers)\n",
    "    naver_data = data_set.json()\n",
    "    movie_info = {}\n",
    "    movie_info\n",
    "    movie_info[naver_data['items'][0]['title']] = {\n",
    "        'link' : naver_data['items'][0]['link'],\n",
    "        'image' : naver_data['items'][0]['image']\n",
    "        \n",
    "        \n",
    "    }\n",
    "\n",
    "    result.append(movie_info)"
   ]
  },
  {
   "cell_type": "code",
   "execution_count": 23,
   "metadata": {},
   "outputs": [
    {
     "data": {
      "text/plain": [
       "[{'<b>말모이</b>': {'link': 'https://movie.naver.com/movie/bi/mi/basic.nhn?code=167699',\n",
       "   'image': 'https://ssl.pstatic.net/imgmovie/mdi/mit110/1676/167699_P40_175859.jpg'}}]"
      ]
     },
     "execution_count": 23,
     "metadata": {},
     "output_type": "execute_result"
    }
   ],
   "source": [
    "result"
   ]
  },
  {
   "cell_type": "code",
   "execution_count": 24,
   "metadata": {},
   "outputs": [
    {
     "data": {
      "text/plain": [
       "{'lastBuildDate': 'Fri, 18 Jan 2019 15:49:21 +0900',\n",
       " 'total': 1,\n",
       " 'start': 1,\n",
       " 'display': 1,\n",
       " 'items': [{'title': '<b>말모이</b>',\n",
       "   'link': 'https://movie.naver.com/movie/bi/mi/basic.nhn?code=167699',\n",
       "   'image': 'https://ssl.pstatic.net/imgmovie/mdi/mit110/1676/167699_P40_175859.jpg',\n",
       "   'subtitle': 'MAL·MO·E: The Secret Mission',\n",
       "   'pubDate': '2018',\n",
       "   'director': '엄유나|',\n",
       "   'actor': '유해진|윤계상|',\n",
       "   'userRating': '9.04'}]}"
      ]
     },
     "execution_count": 24,
     "metadata": {},
     "output_type": "execute_result"
    }
   ],
   "source": [
    "data"
   ]
  }
 ],
 "metadata": {
  "kernelspec": {
   "display_name": "Python 3",
   "language": "python",
   "name": "python3"
  },
  "language_info": {
   "codemirror_mode": {
    "name": "ipython",
    "version": 3
   },
   "file_extension": ".py",
   "mimetype": "text/x-python",
   "name": "python",
   "nbconvert_exporter": "python",
   "pygments_lexer": "ipython3",
   "version": "3.7.1"
  }
 },
 "nbformat": 4,
 "nbformat_minor": 2
}

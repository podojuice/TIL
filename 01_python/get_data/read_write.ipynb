{
 "cells": [
  {
   "cell_type": "code",
   "execution_count": 1,
   "metadata": {},
   "outputs": [],
   "source": [
    "import csv"
   ]
  },
  {
   "cell_type": "code",
   "execution_count": 27,
   "metadata": {},
   "outputs": [],
   "source": [
    "f = open('ss3.csv', 'a+', encoding='utf-8')"
   ]
  },
  {
   "cell_type": "code",
   "execution_count": 28,
   "metadata": {},
   "outputs": [],
   "source": [
    "writer = csv.writer(f)\n",
    "\n",
    "writer.writerow(\n",
    "    ['g', 'r']\n",
    ")\n",
    "\n",
    "f.close()"
   ]
  },
  {
   "cell_type": "code",
   "execution_count": 8,
   "metadata": {},
   "outputs": [],
   "source": [
    "fw = open('ss3.csv', 'w+', encoding='utf-8')\n",
    "\n",
    "writer1= csv.writer(fw)\n",
    "\n",
    "for i in range(7):\n",
    "    writer1.writerow(\n",
    "        [i, i, i, i]\n",
    "    )\n",
    "    \n",
    "fw.close()"
   ]
  },
  {
   "cell_type": "code",
   "execution_count": 11,
   "metadata": {},
   "outputs": [
    {
     "name": "stdout",
     "output_type": "stream",
     "text": [
      "<class 'list'> ['0', '0', '0', '0']\n",
      "<class 'list'> []\n",
      "<class 'list'> ['1', '1', '1', '1']\n",
      "<class 'list'> []\n",
      "<class 'list'> ['2', '2', '2', '2']\n",
      "<class 'list'> []\n",
      "<class 'list'> ['3', '3', '3', '3']\n",
      "<class 'list'> []\n",
      "<class 'list'> ['4', '4', '4', '4']\n",
      "<class 'list'> []\n",
      "<class 'list'> ['5', '5', '5', '5']\n",
      "<class 'list'> []\n",
      "<class 'list'> ['6', '6', '6', '6']\n",
      "<class 'list'> []\n"
     ]
    }
   ],
   "source": [
    "fr = open('ss3.csv', 'r', encoding='utf-8')\n",
    "\n",
    "reader = csv.reader(fr)\n",
    "\n",
    "for line in reader:\n",
    "    print(type(line), line)"
   ]
  },
  {
   "cell_type": "code",
   "execution_count": null,
   "metadata": {},
   "outputs": [],
   "source": []
  }
 ],
 "metadata": {
  "kernelspec": {
   "display_name": "Python 3",
   "language": "python",
   "name": "python3"
  },
  "language_info": {
   "codemirror_mode": {
    "name": "ipython",
    "version": 3
   },
   "file_extension": ".py",
   "mimetype": "text/x-python",
   "name": "python",
   "nbconvert_exporter": "python",
   "pygments_lexer": "ipython3",
   "version": "3.6.7"
  }
 },
 "nbformat": 4,
 "nbformat_minor": 2
}

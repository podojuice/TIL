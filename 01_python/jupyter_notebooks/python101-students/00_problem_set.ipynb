{
 "cells": [
  {
   "cell_type": "markdown",
   "metadata": {},
   "source": [
    "## Problem set"
   ]
  },
  {
   "cell_type": "markdown",
   "metadata": {},
   "source": [
    "**190108**"
   ]
  },
  {
   "cell_type": "markdown",
   "metadata": {},
   "source": [
    "## 1. 이상한 덧셈\n",
    "> 숫자로 구성된 리스트에서 양의 정수의 합을 구하는 함수, `positive_sum` 을 만들어 보아요\n",
    "\n",
    "예시)\n",
    "```python\n",
    "positive_sum([1, -10, 2]) # 3\n",
    "positive_sum([-1, -2, -3, -4]) # 0\n",
    "```\n"
   ]
  },
  {
   "cell_type": "code",
   "execution_count": null,
   "metadata": {},
   "outputs": [],
   "source": [
    "def positive_sum(a):\n",
    "    result = 0\n",
    "    for i in a:\n",
    "        if i >= 0:\n",
    "            result += i\n",
    "    return result\n"
   ]
  },
  {
   "cell_type": "code",
   "execution_count": null,
   "metadata": {},
   "outputs": [],
   "source": [
    "positive_sum([1, 14, 2])"
   ]
  },
  {
   "cell_type": "markdown",
   "metadata": {},
   "source": [
    "### 2. 문자열 탐색\n",
    "> 문자열 요소로만 이루어진 리스트를 넣었을 때, 문자열의 길이가 2 이상이고 주어진 문자열의 첫 번째와 마지막 문자가 같은 문자열의 수를 세는 함수 `start_end`를 작성하시오\n",
    "\n",
    "예시)\n",
    "```python\n",
    "start_end(['level', 'asdwe', 's', 'abadsfa', 'q1q']) # 3\n",
    "```"
   ]
  },
  {
   "cell_type": "code",
   "execution_count": null,
   "metadata": {},
   "outputs": [],
   "source": [
    "def start_end(a):\n",
    "    result = 0\n",
    "    for i in a:\n",
    "        if len(i) > 1:\n",
    "            if i[0] == i[-1]:\n",
    "                result+=1\n",
    "                \n",
    "    return result"
   ]
  },
  {
   "cell_type": "code",
   "execution_count": null,
   "metadata": {},
   "outputs": [],
   "source": [
    "start_end(['level', 'asdwe', 's', 'abadsfa', 'q1q', 'ss'])"
   ]
  },
  {
   "cell_type": "markdown",
   "metadata": {},
   "source": [
    "### 3. Collatz\n",
    "> Colatz 추측: 어떤 자연수 n 이든지, 다음과 같은 작업을 반복하면 1로 만들 수 있다.\n",
    "\n",
    "1. n이 짝수라면 2로 나눈다.\n",
    "2. n이 홀수라면 3을 곱하고 1을 더한다.\n",
    "3. 결과로 나온 수에 1 / 2 의 작업을 1이 될 때까지 반복한다.\n",
    "\n",
    "> 예를 들어 n이 6이면, 6 => 3 => 10 => 5 => 16 => 8 => 4 => 2 => 1 이 되며 8번 만에 1이 됩니다. 자연수 n이 들어왔을 때, 몇 번의 작업만에 1이 되는지를 `return` 하는 함수 `collatz()`를 완성하세요\n",
    "\n",
    "> 단! 500번을 넘어가도 1이 되지 않는다면, -1를 `return` 하십시오\n",
    "\n",
    "예시)\n",
    "```python\n",
    "collatz(6) # 8\n",
    "collatz(16) # 4\n",
    "collatz(6263313) # -1\n",
    "```"
   ]
  },
  {
   "cell_type": "code",
   "execution_count": 1,
   "metadata": {},
   "outputs": [],
   "source": [
    "# 내 코드\n",
    "def collatz(n, result=0,):\n",
    "    \n",
    "    if n == 1:\n",
    "        if result > 500:\n",
    "            return -1\n",
    "        return result\n",
    "    \n",
    "    if n%2 == 0:\n",
    "        n = n/2\n",
    "        result +=1\n",
    "    elif n%2 == 1:\n",
    "        n = (n*3)+1\n",
    "        result +=1\n",
    "        \n",
    "    return collatz(n, result)\n",
    "        \n",
    "    "
   ]
  },
  {
   "cell_type": "code",
   "execution_count": null,
   "metadata": {},
   "outputs": [],
   "source": []
  },
  {
   "cell_type": "code",
   "execution_count": 2,
   "metadata": {},
   "outputs": [],
   "source": [
    "# 선생님 정답\n",
    "def collatz(num):\n",
    "    for i in range(500):\n",
    "        if num % 2:\n",
    "            num = num * 3 + 1\n",
    "        else:\n",
    "            num = num / 2\n",
    "            \n",
    "        #num = num * 3 + 1 if num % 2 else num / 2 이렇게 쓰면 위에 코드랑 똑같은 거\n",
    "        \n",
    "        if num == 1:\n",
    "            return i + 1\n",
    "    return -1"
   ]
  },
  {
   "cell_type": "code",
   "execution_count": null,
   "metadata": {},
   "outputs": [],
   "source": [
    "for i in range(1412412412):\n",
    "    result = 0\n",
    "    a = collatz(i)\n",
    "    if a >= 500:\n",
    "        result = a\n",
    "        break\n",
    "print(result)"
   ]
  },
  {
   "cell_type": "code",
   "execution_count": null,
   "metadata": {},
   "outputs": [],
   "source": [
    "collatz(16)"
   ]
  },
  {
   "cell_type": "markdown",
   "metadata": {},
   "source": [
    "### 4. 솔로 천국\n",
    "> 리스트가 주어질 때, 리스트의 요소 `e`는 `range(0, 10)` 에 포함되는 자연수 이다. 리스트에서 연속적으로 나타나는 숫자는 하나만 남기고 전부 제거하여 `return`하는 함수 `lonely()` 를 작정해보세요. 이때! 제거된 후 남은 수들을 반환할 때는 리스트의 요소들이 순서를 유지해야 합니다!\n",
    "\n",
    "예시)\n",
    "```python\n",
    "lonely([1, 1, 3, 3, 0, 1, 1, 3, 0, 3]) # [1, 3, 0]\n",
    "lonely([4, 4, 3, 3, 3, 4]) # [4, 3]\n",
    "```\n"
   ]
  },
  {
   "cell_type": "code",
   "execution_count": null,
   "metadata": {},
   "outputs": [],
   "source": [
    "def lonely(a, result = []):\n",
    "    index = len(a)\n",
    "    \n",
    "    if not a:\n",
    "        return result\n",
    "    \n",
    "    for i in reversed(range(index)):\n",
    "        if i == 0:\n",
    "            result += [a[0]]\n",
    "            del(a[0])\n",
    "            return lonely(a, result)   \n",
    "        elif a[0] == a[i]:\n",
    "            del(a[i])\n",
    "        \n",
    "    \n",
    "\n",
    "            "
   ]
  },
  {
   "cell_type": "code",
   "execution_count": null,
   "metadata": {},
   "outputs": [],
   "source": [
    "lonely([1, 1, 3, 3, 0, 1, 1, 3, 0, 3])\n"
   ]
  },
  {
   "cell_type": "code",
   "execution_count": null,
   "metadata": {},
   "outputs": [],
   "source": [
    "# 선생님 정답\n",
    "def lonely_1(numbers):\n",
    "    result = []\n",
    "    for number in numbers:\n",
    "        if number not in result:\n",
    "            result.append(number)\n",
    "    return result\n",
    "    \n"
   ]
  },
  {
   "cell_type": "code",
   "execution_count": null,
   "metadata": {},
   "outputs": [],
   "source": [
    "lonely_1([4, 4, 3, 3, 3, 4])"
   ]
  },
  {
   "cell_type": "code",
   "execution_count": null,
   "metadata": {},
   "outputs": [],
   "source": [
    "lonely([4, 4, 3, 3, 3, 4])"
   ]
  },
  {
   "cell_type": "markdown",
   "metadata": {},
   "source": [
    "### 5. * RGB 삼각형\n",
    "\n",
    "| BG | RG | BR | RR | GG | BB |\n",
    "|----|----|----|----|----|----|\n",
    "|R   |B   |G   |R   |G   |B   |\n",
    "\n",
    ">입력으로 `'R', 'G', 'B'`가 섞여있는 문자열이 들어온다. 문자열은 다음과 같이 합쳐진다. 해당 문자열을 처리하여 마지막 색깔만 `return`하는 `triangle()`을 작성하세요.\n",
    "\n",
    "```\n",
    "R R G B R G B B\n",
    " R B R G B R B\n",
    "  G G B R G G\n",
    "   G R G B G\n",
    "    B B R R\n",
    "     B G R\n",
    "      R B\n",
    "       G\n",
    "```\n",
    "\n",
    "예시)\n",
    "```python\n",
    "triangle('RRGBRGBB') # G\n",
    "triangle('GB') # R\n",
    "triangle('B') # B\n",
    "triangle('RGBG') # 'B'\n",
    "```"
   ]
  },
  {
   "cell_type": "code",
   "execution_count": null,
   "metadata": {},
   "outputs": [],
   "source": []
  },
  {
   "cell_type": "code",
   "execution_count": null,
   "metadata": {},
   "outputs": [],
   "source": [
    "def triangle(a):\n",
    "    b = []\n",
    "    if len(a) == 1:\n",
    "        return a\n",
    "\n",
    "    for i in range(len(a)-1):\n",
    "        if a[i] == 'B':\n",
    "            if a[i+1] == 'G':\n",
    "                b += ['R']\n",
    "            elif a[i+1] == 'R':\n",
    "                b += 'G'\n",
    "            elif a[i+1] == 'B':\n",
    "                b += 'B'\n",
    "        if a[i] == 'R':\n",
    "            if a[i+1] == 'G':\n",
    "                b += ['B']\n",
    "            elif a[i+1] == 'B':\n",
    "                b += 'G'\n",
    "            elif a[i+1] == 'R':\n",
    "                b += 'R'\n",
    "        if a[i] == 'G':\n",
    "            if a[i+1] == 'G':\n",
    "                b += ['G']\n",
    "            elif a[i+1] == 'B':\n",
    "                b += 'R'\n",
    "            elif a[i+1] == 'R':\n",
    "                b += 'B'\n",
    "    a = b\n",
    "                \n",
    "        \n",
    "    \n",
    "    return triangle(a)\n",
    "\n"
   ]
  },
  {
   "cell_type": "code",
   "execution_count": null,
   "metadata": {},
   "outputs": [],
   "source": [
    "triangle('RRGBRGBB')"
   ]
  },
  {
   "cell_type": "code",
   "execution_count": null,
   "metadata": {},
   "outputs": [],
   "source": [
    "a = 'RRGBRGBB'\n",
    "type(a)\n",
    "print(a[0])"
   ]
  },
  {
   "cell_type": "markdown",
   "metadata": {},
   "source": [
    "### 6. (??) 홀수개를 찾아라\n",
    "\n",
    ">입력으로 list가 한 개 들어옵니다. 이 list에는 1개의 숫자만 홀수 개 들어있습니다. 이 1개의 홀수개인 숫자를 `return`하는 `find_odd()`를 작성하세요\n",
    "\n",
    "예시)\n",
    "\n",
    "```\n",
    "find_odd([1, 1, 2, 2, 3, 3, 3]) # 3\n",
    "find_odd([2, 1, 2]) # 1\n",
    "find_odd([1, 2, 2, 3, 2, 2, 1]) # 3\n",
    "```"
   ]
  },
  {
   "cell_type": "code",
   "execution_count": null,
   "metadata": {},
   "outputs": [],
   "source": [
    "def find_odd(a):\n",
    "    temp = list(set(a))\n",
    "    for i in temp:\n",
    "        if a.count(i) % 2:\n",
    "            return i\n",
    "    "
   ]
  },
  {
   "cell_type": "code",
   "execution_count": null,
   "metadata": {},
   "outputs": [],
   "source": [
    "find_odd([1,3,4,51,2, 3, 4, 2,1])"
   ]
  },
  {
   "cell_type": "code",
   "execution_count": null,
   "metadata": {},
   "outputs": [],
   "source": [
    "from operator import xor\n",
    "\n",
    "def find_odd_2(numbers):\n",
    "    result = 0\n",
    "    for n in numbers:\n",
    "        result = result ^ n\n",
    "    return result"
   ]
  },
  {
   "cell_type": "code",
   "execution_count": null,
   "metadata": {},
   "outputs": [],
   "source": [
    "find_odd_2([1, 2, 2, 3, 2, 2, 1])"
   ]
  },
  {
   "cell_type": "markdown",
   "metadata": {},
   "source": [
    "**190109**"
   ]
  },
  {
   "cell_type": "markdown",
   "metadata": {},
   "source": [
    "### 1. Up & Down\n",
    "> 우리가 `range(1, 101)` 중 하나를 생각한다. 컴퓨터가 절반에 위치한 숫자를 물어보고, 그 숫자가 맞으면, 우리는 생각한 수보다 크면 1, 작으면 -1, 맞으면 0을 입력해준다. 이때 몇번만에 컴퓨터가 맞췄는지 출력하고 프로그램을 끝낸다.\n",
    "\n",
    "예시)\n",
    "```sh\n",
    "숫자를 생각하세요..\n",
    "50\n",
    "> -1\n",
    "25\n",
    "> -1\n",
    "13\n",
    "> -1\n",
    "7\n",
    "> -1\n",
    "10\n",
    "> 1\n",
    "12\n",
    "> 0\n",
    "6번 만에 맞혔습니다!\n",
    "```\n",
    "\n",
    "```python\n",
    "def guess_up_down(?? ?? ??):\n",
    "    count = 0\n",
    "    print('숫자를 생각하세요..')\n",
    "    n = 100//2\n",
    "    print(n)\n",
    "    count += 1\n",
    "    user_feedback = input('작으면 -1, 맞으면 0, 크면 1: ')\n",
    "    ...\n",
    "    print(f'{count}번 만에 맞힘!')\n",
    "```\n"
   ]
  },
  {
   "cell_type": "code",
   "execution_count": null,
   "metadata": {},
   "outputs": [],
   "source": [
    "def guess_up_down(a = 0, b = 100, count = 0):\n",
    "    \n",
    "    n = (a+b)//2\n",
    "    if count == 0:\n",
    "        print('100보다 작은 정수 숫자를 생각하세요..')\n",
    "    count += 1\n",
    "    user_feedback = input(f'{n}보다 작으면 -1, 맞으면 0, 크면 1: ')\n",
    "    if user_feedback == '-1':\n",
    "        b = n\n",
    "        \n",
    "        return guess_up_down(a, b, count)\n",
    "    elif user_feedback == '1':\n",
    "        a = n\n",
    "        \n",
    "        return guess_up_down(a, b, count)\n",
    "    elif user_feedback == '0':\n",
    "        print(f'정답은 {n}\\n{count}번 만에 맞춤!')"
   ]
  },
  {
   "cell_type": "code",
   "execution_count": null,
   "metadata": {},
   "outputs": [],
   "source": [
    "guess_up_down()\n"
   ]
  },
  {
   "cell_type": "code",
   "execution_count": null,
   "metadata": {},
   "outputs": [],
   "source": [
    "def guess_1():\n",
    "    count = 0\n",
    "    max_n, min_n = 100, 0\n",
    "    print('숫자를 생각하세요!')\n",
    "    \n",
    "    while 1:\n",
    "        guess = (max_n + min_n) // 2\n",
    "        print(guess)\n",
    "        count+=1\n",
    "        feedback = int(input('작으면 -1, 크면 1, 맞으면 0: '))\n",
    "        if feedback == -1:\n",
    "            max_n = guess\n",
    "        elif feedback == 1:\n",
    "            min_n = guess\n",
    "        else:\n",
    "            return count\n",
    "        \n",
    "        "
   ]
  },
  {
   "cell_type": "code",
   "execution_count": null,
   "metadata": {},
   "outputs": [],
   "source": [
    "guess_1()"
   ]
  },
  {
   "cell_type": "markdown",
   "metadata": {},
   "source": [
    "**190110**"
   ]
  },
  {
   "cell_type": "markdown",
   "metadata": {},
   "source": [
    "### Hangman\n",
    "> 필요한 함수들!"
   ]
  },
  {
   "cell_type": "code",
   "execution_count": null,
   "metadata": {},
   "outputs": [],
   "source": [
    "def is_answer(answer, letters):\n",
    "    answer = set(answer)\n",
    "    count = 0\n",
    "    for i in set(letters):\n",
    "        if i in answer:\n",
    "            count += 1\n",
    "    return len(answer) == count\n",
    "        \n",
    "        \n",
    "    \n",
    "    \n",
    "# is_answer('apple', ['a', 'p', 'l']) #--> false"
   ]
  },
  {
   "cell_type": "code",
   "execution_count": 13,
   "metadata": {},
   "outputs": [
    {
     "data": {
      "text/plain": [
       "'appl*'"
      ]
     },
     "execution_count": 13,
     "metadata": {},
     "output_type": "execute_result"
    }
   ],
   "source": [
    "def status(answer, letters):\n",
    "    for i in answer:\n",
    "        if i not in letters:\n",
    "            answer = answer.replace(i, '*')\n",
    "    return answer\n",
    "\n",
    "status('apple', 'pla')"
   ]
  },
  {
   "cell_type": "code",
   "execution_count": null,
   "metadata": {},
   "outputs": [],
   "source": [
    "# 위에 선생님이 주신 로직들을 활용해서 해보자."
   ]
  },
  {
   "cell_type": "markdown",
   "metadata": {},
   "source": [
    "#### Hangman 로직 만들기\n",
    "> 위의 코드를 활용하여 `hangman(answer)`를 만들자!\n",
    "> 사용자가 답을 맞추거나, 시도가 9번이 되면 종료!"
   ]
  },
  {
   "cell_type": "code",
   "execution_count": null,
   "metadata": {},
   "outputs": [],
   "source": [
    "def hangman(answer, temp = '', count = 0, user_input = ''):\n",
    "    \n",
    "    if count == 0:\n",
    "        for i in answer:\n",
    "            temp += '*'\n",
    "        print('당신에게 주어진 기회는 8번입니다')\n",
    "        print('*'*len(answer))\n",
    "    if count >= 9:\n",
    "        return f'당신의 무지에 사람이 한 명 죽고 말았습니다'\n",
    "        \n",
    "    elif answer == temp:\n",
    "        \n",
    "        return f'{temp}! {count}번만에 맞히셨습니다!'\n",
    "    \n",
    "\n",
    "    else:\n",
    "        a = input('알파벳을 하나 입력해주세요: ')\n",
    "#         if a not in answer: # 새로 넣은 값이 answer에 있다면 count 에 1을 더하고,\n",
    "#              count += 1\n",
    "                \n",
    "        user_input += a\n",
    "\n",
    "        temp = answer\n",
    "        for i in answer:\n",
    "            if i not in user_input:\n",
    "                temp= temp.replace(i, '*')\n",
    "        \n",
    "        count += 1\n",
    "        print(f'{count}번 째 시도, {temp}')\n",
    "        print('-----------------------')#이 문장을 프린트.\n",
    "              \n",
    "        return hangman(answer, temp, count, user_input)       \n",
    "        \n",
    "        \n",
    "        \n",
    "    \n",
    "    \n",
    "hangman('apple')"
   ]
  },
  {
   "cell_type": "code",
   "execution_count": null,
   "metadata": {},
   "outputs": [],
   "source": [
    "# -*- coding: utf-8 _*_\n",
    "\n",
    "def hang(answer):\n",
    "    input_letters = []\n",
    "    attempt = 8\n",
    "    print('===start===')\n",
    "    while 1:\n",
    "        print(f'남은 목숨: {\"♥\" * attempt}')\n",
    "        status(answer, input_letters)\n",
    "        guess = input('알파벳을 입력하세요 :').lower()\n",
    "        input_letters.append(guess)\n",
    "        if is_answer(answer, input_letters):\n",
    "            return '성공!'\n",
    "        else:\n",
    "            attempt -= 1\n",
    "            \n",
    "        if not attempt:\n",
    "            return '실패!'\n",
    "hang('apple')\n"
   ]
  },
  {
   "cell_type": "code",
   "execution_count": null,
   "metadata": {},
   "outputs": [
    {
     "name": "stdout",
     "output_type": "stream",
     "text": [
      "당신에게 주어진 기회는 8번입니다\n",
      "*****\n",
      "알파벳을 하나 입력해주세요: a\n",
      "남은 목숨은 ♥♥♥♥♥♥♥♥, a****\n",
      "-----------------------\n"
     ]
    }
   ],
   "source": [
    "def hangman_1(answer, temp = '', count = 9, user_input = ''):\n",
    "    \n",
    "    if count == 9:\n",
    "        for i in answer:\n",
    "            temp += '*'\n",
    "        print('당신에게 주어진 기회는 8번입니다')\n",
    "        print('*'*len(answer))\n",
    "        count -= 1\n",
    "    if count == 0:\n",
    "        return f'당신의 무지에 사람이 한 명 죽고 말았습니다'\n",
    "        \n",
    "    elif answer == temp:\n",
    "        \n",
    "        print(temp, '정답입니다!')\n",
    "        print('남은 목숨: ', count)\n",
    "        \n",
    "#         return f'{temp}! 정답입니다! :\\n남은 목숨: {count}'\n",
    "    \n",
    "\n",
    "    else:\n",
    "        a = input('알파벳을 하나 입력해주세요: ')\n",
    "        if a not in answer:\n",
    "             count -= 1\n",
    "                \n",
    "        user_input += a\n",
    "\n",
    "        temp = answer\n",
    "        for i in answer:\n",
    "            if i not in user_input:\n",
    "                temp= temp.replace(i, '*')\n",
    "        life = count*'♥'\n",
    "        \n",
    "        print(f'남은 목숨은 {life}, {temp}')\n",
    "        print('-----------------------')\n",
    "              \n",
    "        return hangman_1(answer, temp, count, user_input)       \n",
    "        \n",
    "        \n",
    "        \n",
    "    \n",
    "    \n",
    "hangman_1('apple')"
   ]
  }
 ],
 "metadata": {
  "kernelspec": {
   "display_name": "Python 3",
   "language": "python",
   "name": "python3"
  },
  "language_info": {
   "codemirror_mode": {
    "name": "ipython",
    "version": 3
   },
   "file_extension": ".py",
   "mimetype": "text/x-python",
   "name": "python",
   "nbconvert_exporter": "python",
   "pygments_lexer": "ipython3",
   "version": "3.7.1"
  }
 },
 "nbformat": 4,
 "nbformat_minor": 2
}

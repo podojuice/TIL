{
 "cells": [
  {
   "cell_type": "markdown",
   "metadata": {},
   "source": [
    "# 시작하기전에\n",
    "\n",
    "<wikipedia - 객체지향 프로그래밍> \n",
    ">\n",
    "> 객체 지향 프로그래밍(영어: Object-Oriented Programming, OOP)은 컴퓨터 프 로그래밍의 패러다임의 하나이다. 객체 지향 프로그래밍은 컴퓨터 프로그램을 명령어의 목록으로 보는 시각에서 벗어나 여러 개의 독립된 단위, 즉 \"객체\"들의 모임으로 파악하고자 하는 것이다. 각각의 객체는 메시지를 주고받고, 데이터를 처리할 수 있다.\n",
    ">\n",
    "> 명령형 프로그래밍인 절차지향 프로그래밍에서 발전된 형태를 나타내며, 기본 구성요소는 다음과 같다.\n",
    "\n",
    "* 클래스(Class) - 같은 종류(또는 문제 해결을 위한)의 집단에 속하는 속성(attribute)과 행위(behavior)를 정의한 것으로 객체지향 프로그램의 기본적인 사용자 정의 데이터형(user define data type)이라고 할 수 있다. 클래스는 프로그래머가 아니지만 해결해야 할 문제가 속하는 영역에 종사하는 사람이라면 사용할 수 있고, 다른 클래스 또는 외부 요소와 독립적으로 디자인하여야 한다.\n",
    "\n",
    "\n",
    "* 인스턴스 - 클래스의 인스턴스(실제로 메모리상에 할당된 것)이다. 객체는 자신 고유의 속성(attribute)을 가지며 클래스에서 정의한 행위(behavior)를 수행할 수 있다. 객체의 행위는 클래스에 정의된 행위에 대한 정의를 공유함으로써 메모리를 경제적으로 사용한다.\n",
    "\n",
    "\n",
    "* 메서드(Method) - 클래스로부터 생성된 객체를 사용하는 방법으로서 객체에 명령을 내리는 것이라 할 수 있다. 메서드는 한 객체의 속성을 조작하는 데 사용된다."
   ]
  },
  {
   "cell_type": "code",
   "execution_count": 2,
   "metadata": {},
   "outputs": [
    {
     "data": {
      "text/plain": [
       "(-7+24j)"
      ]
     },
     "execution_count": 2,
     "metadata": {},
     "output_type": "execute_result"
    }
   ],
   "source": [
    "# 복소수를 하나 만들어보고, 타입을 출력해봅시다.\n",
    "img_number = 3 + 4j\n",
    "img_number * img_number"
   ]
  },
  {
   "cell_type": "code",
   "execution_count": 3,
   "metadata": {},
   "outputs": [
    {
     "name": "stdout",
     "output_type": "stream",
     "text": [
      "3.0\n",
      "4.0\n"
     ]
    }
   ],
   "source": [
    "# 허수부랑 실수부를 함께 출력해봅시다.\n",
    "print(img_number.real)\n",
    "print(img_number.imag)"
   ]
  },
  {
   "cell_type": "code",
   "execution_count": null,
   "metadata": {},
   "outputs": [],
   "source": [
    "# 리스트를 하나 만들고 정렬해봅시다.\n",
    "a=[3, 2, 1]\n",
    "a.sort()\n",
    "print(a)"
   ]
  },
  {
   "cell_type": "code",
   "execution_count": 1,
   "metadata": {},
   "outputs": [
    {
     "name": "stdout",
     "output_type": "stream",
     "text": [
      "['__add__', '__class__', '__contains__', '__delattr__', '__delitem__', '__dir__', '__doc__', '__eq__', '__format__', '__ge__', '__getattribute__', '__getitem__', '__gt__', '__hash__', '__iadd__', '__imul__', '__init__', '__init_subclass__', '__iter__', '__le__', '__len__', '__lt__', '__mul__', '__ne__', '__new__', '__reduce__', '__reduce_ex__', '__repr__', '__reversed__', '__rmul__', '__setattr__', '__setitem__', '__sizeof__', '__str__', '__subclasshook__', 'append', 'clear', 'copy', 'count', 'extend', 'index', 'insert', 'pop', 'remove', 'reverse', 'sort']\n"
     ]
    }
   ],
   "source": [
    "# list class 의  object 가 할 수 있는 것들을 알아봅시다.\n",
    "print(dir(list))"
   ]
  },
  {
   "cell_type": "markdown",
   "metadata": {},
   "source": [
    "## Turtle\n",
    "> 거북이 클래스로 OOP 배우기"
   ]
  },
  {
   "cell_type": "code",
   "execution_count": 3,
   "metadata": {},
   "outputs": [
    {
     "ename": "SyntaxError",
     "evalue": "invalid syntax (<ipython-input-3-e0fd09b7e3a5>, line 1)",
     "output_type": "error",
     "traceback": [
      "\u001b[1;36m  File \u001b[1;32m\"<ipython-input-3-e0fd09b7e3a5>\"\u001b[1;36m, line \u001b[1;32m1\u001b[0m\n\u001b[1;33m    turtle 저기 어디 있음\u001b[0m\n\u001b[1;37m            ^\u001b[0m\n\u001b[1;31mSyntaxError\u001b[0m\u001b[1;31m:\u001b[0m invalid syntax\n"
     ]
    }
   ],
   "source": [
    "#turtle 저기 어디 있음\n"
   ]
  },
  {
   "cell_type": "code",
   "execution_count": 11,
   "metadata": {},
   "outputs": [
    {
     "name": "stdout",
     "output_type": "stream",
     "text": [
      "여현구, 100살, 번호01011121112 1 선생님에게 제출하였습니다.\n",
      "None\n"
     ]
    }
   ],
   "source": [
    "class Form:\n",
    "    name = ''\n",
    "    age = 0\n",
    "    phone = ''\n",
    "    intro = ''\n",
    "    \n",
    "    def submit(self, teacher):\n",
    "        print(f'{self.name}, {self.age}살, 번호{self.phone} {teacher} 선생님에게 제출하였습니다.')\n",
    "        \n",
    "form_JD = Form()\n",
    "form_JD.name = '여현구'\n",
    "form_JD.age = 100\n",
    "form_JD.phone = '01011121112'\n",
    "form_JH = Form()\n",
    "\n",
    "print(form_JD.submit('1'))\n"
   ]
  },
  {
   "cell_type": "markdown",
   "metadata": {},
   "source": [
    "## 실습 문제\n",
    "\n",
    "> 프로그래밍으로 나와 친구의 이름을 저장해보세요.\n",
    ">\n",
    "\n",
    "**각자의 명함과 지갑을 만들어봅시다.**\n",
    "\n",
    "* 내 생일, 전화번호, 이메일주소 정보를 담은 변수를 확인해봅시다.\n",
    "\n",
    "* 주머니(pocket)에는 돈(won)을 포함하여 현재 가지고 있는 것을 작성해보세요.\n",
    "\n",
    "* 나는 인사를 하면서 내 명함에 있는 정보 하나를 이야기합니다. `greeting` 함수를 만듭시다.\n",
    "\n",
    "* 나는 주머니에 원하는 것과 갯수를 지정하여 넣을 수 있습니다. \n",
    "\n",
    "  기존에 값이 있으면, 갯수를 추가하고 없으면 새로 만드는 `in_my_pocket` 함수를 만듭시다.\n",
    "  \n",
    "**친구의 정보와 지갑도 만들어봅시다.**"
   ]
  },
  {
   "cell_type": "code",
   "execution_count": 2,
   "metadata": {},
   "outputs": [
    {
     "name": "stdout",
     "output_type": "stream",
     "text": [
      "Hi, 내 name은 여현구야. \n",
      "Hi, 내 github은 podojuice야. \n",
      "Hi, 내 email은 123@123.com야. \n",
      "{'money': 10000, 'candy': 3, 'cigar': 1}\n",
      "10000\n"
     ]
    }
   ],
   "source": [
    "# 아래에 자유롭게 코드를 작성해보세요.\n",
    "my_info = {\n",
    "    'name': '여현구',\n",
    "    'github': 'podojuice',\n",
    "    'email': '123@123.com'\n",
    "}\n",
    "\n",
    "\n",
    "\n",
    "my_pocket = {\n",
    "    'money': 10000,\n",
    "    'candy': 3\n",
    "}\n",
    "\n",
    "def greeting(my_info):\n",
    "    for i, j in my_info.items():\n",
    "        print(f'Hi, 내 {i}은 {j}야. ')\n",
    "          \n",
    "greeting(my_info)\n",
    "          \n",
    "          \n",
    "def in_my_pocket(pocket, stuff, count):\n",
    "    if pocket.get(stuff):\n",
    "          pocket[stuff] += count\n",
    "    else:\n",
    "          pocket[stuff] = count\n",
    "    return pocket\n",
    "\n",
    "print(in_my_pocket(my_pocket, 'cigar', 1))\n",
    "\n",
    "print(my_pocket.get('money'))\n"
   ]
  },
  {
   "cell_type": "code",
   "execution_count": 27,
   "metadata": {},
   "outputs": [],
   "source": [
    "mates = {\n",
    "    'yeo' : {\n",
    "        'name': 'hyungoo',\n",
    "        'github': 'podojuice',\n",
    "        'money': 20000\n",
    "    },\n",
    "    'song' : {\n",
    "        'name': 'gunho',\n",
    "        'github': 'asdf',\n",
    "        'money': 10000\n",
    "    },\n",
    "    'kwon' : {\n",
    "        'name': 'taekkun',\n",
    "        'github': 'qwer',\n",
    "        'money': 120000\n",
    "    }\n",
    "}"
   ]
  },
  {
   "cell_type": "code",
   "execution_count": 1,
   "metadata": {},
   "outputs": [
    {
     "name": "stdout",
     "output_type": "stream",
     "text": [
      "3 703\n",
      "여현구 a podo\n",
      "여현구는 도착하면 물를 합니다.\n"
     ]
    },
    {
     "ename": "TypeError",
     "evalue": "__init__() missing 4 required positional arguments: 'name', 'blood', 'github', and 'arrive'",
     "output_type": "error",
     "traceback": [
      "\u001b[1;31m---------------------------------------------------------------------------\u001b[0m",
      "\u001b[1;31mTypeError\u001b[0m                                 Traceback (most recent call last)",
      "\u001b[1;32m<ipython-input-1-402b9a626b7f>\u001b[0m in \u001b[0;36m<module>\u001b[1;34m\u001b[0m\n\u001b[0;32m     22\u001b[0m \u001b[0myeo\u001b[0m\u001b[1;33m.\u001b[0m\u001b[0mget_info\u001b[0m\u001b[1;33m(\u001b[0m\u001b[1;33m)\u001b[0m\u001b[1;33m\u001b[0m\u001b[1;33m\u001b[0m\u001b[0m\n\u001b[0;32m     23\u001b[0m \u001b[0myeo\u001b[0m\u001b[1;33m.\u001b[0m\u001b[0mdochak\u001b[0m\u001b[1;33m(\u001b[0m\u001b[1;33m)\u001b[0m\u001b[1;33m\u001b[0m\u001b[1;33m\u001b[0m\u001b[0m\n\u001b[1;32m---> 24\u001b[1;33m \u001b[0mkim\u001b[0m \u001b[1;33m=\u001b[0m \u001b[0mMate\u001b[0m\u001b[1;33m(\u001b[0m\u001b[1;33m)\u001b[0m\u001b[1;33m\u001b[0m\u001b[1;33m\u001b[0m\u001b[0m\n\u001b[0m",
      "\u001b[1;31mTypeError\u001b[0m: __init__() missing 4 required positional arguments: 'name', 'blood', 'github', and 'arrive'"
     ]
    }
   ],
   "source": [
    "# 클래스 용례 클래스 이름은 무적권 대문잦ㄹ ㅗ시작해야ㅎ마\n",
    "\n",
    "class Mate:\n",
    "    classroom = 703\n",
    "    ban = 3\n",
    "    \n",
    "    def __init__(self, name, blood, github, arrive):\n",
    "        self.name = name\n",
    "        self.blood = blood\n",
    "        self.github = github\n",
    "        self.arrive = arrive\n",
    "    \n",
    "        \n",
    "    def get_info(self):\n",
    "        print(self.name, self.blood, self.github)\n",
    "        \n",
    "    def dochak(self):\n",
    "        print(f'{self.name}는 도착하면 {self.arrive}를 합니다.')\n",
    "        \n",
    "yeo = Mate('여현구', 'a', 'podo', '물')\n",
    "print(yeo.ban, yeo.classroom)\n",
    "yeo.get_info()\n",
    "yeo.dochak()\n",
    "kim = Mate()"
   ]
  },
  {
   "cell_type": "code",
   "execution_count": 3,
   "metadata": {},
   "outputs": [
    {
     "name": "stdout",
     "output_type": "stream",
     "text": [
      "True\n",
      "한 글자만 넣어라: a\n",
      "오 맞음!\n"
     ]
    },
    {
     "data": {
      "text/plain": [
       "True"
      ]
     },
     "execution_count": 3,
     "metadata": {},
     "output_type": "execute_result"
    }
   ],
   "source": [
    "class Text:\n",
    "    def __init__(self, content):\n",
    "        self.content = content\n",
    "        \n",
    "    def is_palindrome(self):\n",
    "        txt = self.content.replace(' ','').lower()\n",
    "        return txt == ''.join(reversed(txt))\n",
    "        \n",
    "    def start_hangman(self):\n",
    "        guess = input('한 글자만 넣어라: ')\n",
    "        if guess in self.content:\n",
    "            print('오 맞음!')\n",
    "            return True\n",
    "        else:\n",
    "            print('병신ㅋㅋ')\n",
    "            return False\n",
    "        \n",
    "        \n",
    "my_text = Text('A santa at NASA')\n",
    "\n",
    "print(my_text.is_palindrome())\n",
    "\n",
    "your_text = Text('apple')\n",
    "your_text.start_hangman()\n",
    "\n",
    "#이게 OOP인데... 나는 아직 이해하지 못했따.\n",
    "\n",
    "\n",
    "#예를 들어, 리스트 안에도 이렇게 정의가 되어 있는 거시어따\n",
    "# 지금까지 우리가 써오던 것들이 뜯어보면 이래 생겼을 거시다.\n",
    "# def List:\n",
    "#     def append(self, e):\n",
    "#         self += [e]\n",
    "#         #얘네는 리턴값이 없고 원본이 바뀌기 때무네 ... \n",
    "#     def sort(self):\n",
    "#         self = self.sort()\n",
    "        \n",
    "#     def count(self, e):\n",
    "#         #some logic to count e\n",
    "#         return count\n"
   ]
  },
  {
   "cell_type": "code",
   "execution_count": null,
   "metadata": {},
   "outputs": [],
   "source": []
  },
  {
   "cell_type": "code",
   "execution_count": null,
   "metadata": {},
   "outputs": [],
   "source": [
    "# in_my_pocket 함수를 통해 내 주머니에 내용을 추가해봅시다."
   ]
  },
  {
   "cell_type": "code",
   "execution_count": null,
   "metadata": {},
   "outputs": [],
   "source": [
    "# greeting 함수를 통해 인사를 해봅시다.\n",
    "#=> 안녕, kim이야. 01012345678"
   ]
  },
  {
   "cell_type": "markdown",
   "metadata": {},
   "source": [
    "# 클래스 및 인스턴스"
   ]
  },
  {
   "cell_type": "markdown",
   "metadata": {},
   "source": [
    "## 클래스 객체\n",
    "\n",
    "```python\n",
    "class ClassName:\n",
    "    \n",
    "```\n",
    "\n",
    "* 선언과 동시에 클래스 객체가 생성됨.\n",
    "\n",
    "* 또한, 선언된 공간은 지역 스코프로 사용된다.\n",
    "\n",
    "* 정의된 어트리뷰트 중 변수는 멤버 변수로 불리운다.\n",
    "\n",
    "* 정의된 함수(`def`)는 메서드로 불리운다."
   ]
  },
  {
   "cell_type": "code",
   "execution_count": 23,
   "metadata": {},
   "outputs": [
    {
     "name": "stdout",
     "output_type": "stream",
     "text": [
      "<class 'type'>\n",
      "<class 'type'>\n",
      "<class '__main__.TestClass'>\n"
     ]
    }
   ],
   "source": [
    "# Class를 만들어봅시다.\n",
    "# 얘네는 띄어쓰고 싶은 부분에 Upper Camel Case로 구분한답니당~~\n",
    "class TestClass:\n",
    "    \"\"\"Test Class\"\"\"\n",
    "    \n",
    "print(type(TestClass))\n",
    "print(type(Text))\n",
    "\n",
    "tc = TestClass()\n",
    "print(type(tc))"
   ]
  },
  {
   "cell_type": "code",
   "execution_count": 7,
   "metadata": {},
   "outputs": [
    {
     "name": "stdout",
     "output_type": "stream",
     "text": [
      "HELLO!\n"
     ]
    },
    {
     "data": {
      "text/plain": [
       "'홍길동'"
      ]
     },
     "execution_count": 7,
     "metadata": {},
     "output_type": "execute_result"
    }
   ],
   "source": [
    "# Person 클래스를 만들어봅시다.\n",
    "class Person:\n",
    "    name = '홍길동'\n",
    "    \n",
    "    def say_hi(self):\n",
    "        print('HELLO!')\n",
    "    def intro(self):\n",
    "        print(f'I am {self.name}')\n",
    "        \n",
    "p = Person()\n",
    "p.say_hi()\n",
    "p.name"
   ]
  },
  {
   "cell_type": "markdown",
   "metadata": {},
   "source": [
    "* 선언시 self는 반드시 작성해주세요! 나중에 설명드립니다."
   ]
  },
  {
   "cell_type": "markdown",
   "metadata": {},
   "source": [
    "## 인스턴스 객체\n",
    "\n",
    "* 인스턴스 객체는 `ClassName()`을 호출함으로써 선언된다.\n",
    "\n",
    "* 인스턴스 객체와 클래스 객체는 서로 다른 이름 공간을 가지고 있다.\n",
    "\n",
    "* 인스턴스 -> 클래스 -> 전역 순으로 탐색을 한다."
   ]
  },
  {
   "cell_type": "code",
   "execution_count": 8,
   "metadata": {},
   "outputs": [],
   "source": [
    "# 클래스 Person의 iu 인스턴스를 만들어봅시다. \n",
    "\n",
    "iu = Person()"
   ]
  },
  {
   "cell_type": "code",
   "execution_count": 9,
   "metadata": {},
   "outputs": [
    {
     "name": "stdout",
     "output_type": "stream",
     "text": [
      "HELLO!\n"
     ]
    }
   ],
   "source": [
    "# 인사하는 메서드를 호출해봅시다.\n",
    "iu.say_hi()"
   ]
  },
  {
   "cell_type": "code",
   "execution_count": 10,
   "metadata": {},
   "outputs": [
    {
     "data": {
      "text/plain": [
       "'홍길동'"
      ]
     },
     "execution_count": 10,
     "metadata": {},
     "output_type": "execute_result"
    }
   ],
   "source": [
    "# iu의 이름을 확인해봅시다.\n",
    "iu.name"
   ]
  },
  {
   "cell_type": "code",
   "execution_count": 11,
   "metadata": {},
   "outputs": [
    {
     "name": "stdout",
     "output_type": "stream",
     "text": [
      "IU\n"
     ]
    }
   ],
   "source": [
    "# iu로 이름을 바꿔주세요.\n",
    "iu.name = 'IU'\n",
    "print(iu.name)"
   ]
  },
  {
   "cell_type": "code",
   "execution_count": 12,
   "metadata": {},
   "outputs": [
    {
     "name": "stdout",
     "output_type": "stream",
     "text": [
      "I am IU\n"
     ]
    }
   ],
   "source": [
    "# iu가 인사를 합니다.\n",
    "\n",
    "iu.intro()"
   ]
  },
  {
   "cell_type": "code",
   "execution_count": 13,
   "metadata": {},
   "outputs": [
    {
     "name": "stdout",
     "output_type": "stream",
     "text": [
      "True\n"
     ]
    }
   ],
   "source": [
    "# iu와 Person이 같은지 확인해보겠습니다.\n",
    "print(isinstance(iu, Person))\n",
    "\n",
    "# if isinstance(user_input, str):"
   ]
  },
  {
   "cell_type": "code",
   "execution_count": 14,
   "metadata": {},
   "outputs": [
    {
     "data": {
      "text/plain": [
       "True"
      ]
     },
     "execution_count": 14,
     "metadata": {},
     "output_type": "execute_result"
    }
   ],
   "source": [
    "# iu와 Person이 같은지 확인해보겠습니다.\n",
    "type(iu) == Person"
   ]
  },
  {
   "cell_type": "code",
   "execution_count": 53,
   "metadata": {},
   "outputs": [
    {
     "name": "stdout",
     "output_type": "stream",
     "text": [
      "<__main__.Person object at 0x0000016B83E9A898>\n"
     ]
    }
   ],
   "source": [
    "# iu를 출력해봅시다.\n",
    "print(iu)"
   ]
  },
  {
   "cell_type": "code",
   "execution_count": 54,
   "metadata": {},
   "outputs": [
    {
     "data": {
      "text/plain": [
       "<__main__.Person at 0x16b83e9a898>"
      ]
     },
     "execution_count": 54,
     "metadata": {},
     "output_type": "execute_result"
    }
   ],
   "source": [
    "# iu를 출력해봅시다 2.\n",
    "iu "
   ]
  },
  {
   "cell_type": "code",
   "execution_count": 55,
   "metadata": {},
   "outputs": [
    {
     "data": {
      "text/plain": [
       "__main__.Person"
      ]
     },
     "execution_count": 55,
     "metadata": {},
     "output_type": "execute_result"
    }
   ],
   "source": [
    "# type을 확인해봅시다.\n",
    "\n",
    "type(iu)"
   ]
  },
  {
   "cell_type": "markdown",
   "metadata": {},
   "source": [
    "* 파이썬 출력의 비밀 : repr, str"
   ]
  },
  {
   "cell_type": "code",
   "execution_count": null,
   "metadata": {},
   "outputs": [],
   "source": []
  },
  {
   "cell_type": "code",
   "execution_count": 57,
   "metadata": {},
   "outputs": [],
   "source": [
    "# 강다니엘을 만들어봅시다.\n",
    "\n",
    "KD = Person()"
   ]
  },
  {
   "cell_type": "code",
   "execution_count": 61,
   "metadata": {},
   "outputs": [
    {
     "name": "stdout",
     "output_type": "stream",
     "text": [
      "<__main__.Person object at 0x0000016B83E8F0F0>\n",
      "Daniel\n",
      "Daniel\n"
     ]
    }
   ],
   "source": [
    "# 강다니엘을 출력해봅시다.\n",
    "\n",
    "print(KD)\n",
    "print(KD.name)\n",
    "KD.name = 'Daniel'\n",
    "print(KD.name)"
   ]
  },
  {
   "cell_type": "markdown",
   "metadata": {},
   "source": [
    "## 실습 문제 발전\n",
    "\n",
    "> 지금까지 배운 것을 통해서 Person 클래스를 만들고, 친구와 나를 표현해봅시다.\n",
    ">\n",
    "> 주머니와 정보를 가지고 있고 (멤버 변수)\n",
    "> \n",
    "> 인사(`greeting()`)와 주머니에 내용을 추가(`in_my_pocket()`)할 수 있습니다. (메서드)\n",
    ">\n",
    "> 추가적으로 `get_my_pocket()`으로 지갑에 담긴 정보를 가져와 봅시다.\n",
    ">\n",
    "> 그리고 사람을 출력하면, 지갑을 제외한 정보를 보여줘보세요. "
   ]
  },
  {
   "cell_type": "code",
   "execution_count": null,
   "metadata": {},
   "outputs": [],
   "source": [
    "# 아래에 코드를 작성해주세요. "
   ]
  },
  {
   "cell_type": "markdown",
   "metadata": {},
   "source": [
    "## MyList만들기\n",
    "\n",
    "> 이제 배운 것을 활용하여 나만의 리스트 객체를 만들 수 있습니다. \n",
    ">\n",
    "> `class MyList:`\n",
    ">\n",
    "\n",
    "```\n",
    "* 변수\n",
    "data : 비어 있는 리스트\n",
    "\n",
    "* 메서드 \n",
    "append : 값을 받아 추가합니다.\n",
    "pop : 마지막에 있는 값을 없애고, 해당 값을 리턴합니다.\n",
    "reverse : 제자리에서 뒤집고 리턴 값은 없습니다.\n",
    "count(x) : x의 갯수를 반환합니다.\n",
    "clear : 값을 모두 삭제합니다.\n",
    "\n",
    "__repr__ : ex) '리스트 내용 1, 2, 3'\n",
    "```"
   ]
  },
  {
   "cell_type": "code",
   "execution_count": null,
   "metadata": {},
   "outputs": [],
   "source": [
    "# 아래에 코드를 작성해주세요."
   ]
  },
  {
   "cell_type": "markdown",
   "metadata": {},
   "source": [
    "## 자유롭게 만들어보기\n",
    "\n",
    "> 이 세상에 있는 무엇인가를 자유롭게 표현해주세요."
   ]
  },
  {
   "cell_type": "code",
   "execution_count": 17,
   "metadata": {},
   "outputs": [
    {
     "name": "stdout",
     "output_type": "stream",
     "text": [
      "\n",
      "                     _                              \n",
      "                    | |                             \n",
      "         _ __   ___ | | _____ _ __ ___   ___  _ __  \n",
      "        | '_ \\ / _ \\| |/ / _ \\ '_ ` _ \\ / _ \\| '_ \\ \n",
      "        | |_) | (_) |   <  __/ | | | | | (_) | | | |\n",
      "        | .__/ \\___/|_|\\_\\___|_| |_| |_|\\___/|_| |_|\n",
      "        | |                                         \n",
      "        |_|             \n",
      "        \n",
      "전투 시작\n",
      "\n",
      "\n",
      "파이리의 공격! | miss | 피카츄의 남은 hp는100\n",
      "피카츄의 공격! | miss | 파이리의 남은 hp는90\n",
      "\n",
      "★1라운드 종료!★\n",
      "\n",
      "파이리의 공격! | 파이리의 몸통박치기! | \n",
      "                     _.--\"\"`-..\n",
      "                    ,'          `.\n",
      "                  ,'          __  `.\n",
      "                 /|          \" __   \\\n",
      "                , |           / |.   .\n",
      "                |,'          !_.'|   |\n",
      "              ,'             '   |   |\n",
      "             /              |`--'|   |\n",
      "            |                `---'   |\n",
      "             .   ,                   |                       ,\".\n",
      "              ._     '           _'  |                    , ' \\ `\n",
      "          `.. `.`-...___,...---\"\"    |       __,.        ,`\"   L,|\n",
      "          |, `- .`._        _,-,.'   .  __.-'-. /        .   ,    \\\n",
      "        -:..     `. `-..--_.,.<       `\"      / `.        `-/ |   .\n",
      "          `,         \"\"\"\"'     `.              ,'         |   |  ',,\n",
      "            `.      '            '            /          '    |'. |/\n",
      "              `.   |              \\       _,-'           |       ''\n",
      "                `._'               \\   '\"\\                .      |\n",
      "                   |                '     \\                `._  ,'\n",
      "                   |                 '     \\                 .'|\n",
      "                   |                 .      \\                | |\n",
      "                   |                 |       L              ,' |\n",
      "                   `                 |       |             /   '\n",
      "                    \\                |       |           ,'   /\n",
      "                  ,' \\               |  _.._ ,-..___,..-'    ,'\n",
      "                 /     .             .      `!             ,j'\n",
      "                /       `.          /        .           .'/\n",
      "               .          `.       /         |        _.'.'\n",
      "                `.          7`'---'          |------\"'_.'\n",
      "               _,.`,_     _'                ,''-----\"'\n",
      "           _,-_    '       `.     .'      ,\\\n",
      "           -\" /`.         _,'     | _  _  _.|\n",
      "            \"\"--'---\"\"\"\"\"'        `' '! |! /\n",
      "                                    `\" \" -' \n",
      "                            \n",
      "피카츄의 남은 hp는90\n",
      "피카츄의 공격! | 피카츄의 백만볼트! | \n",
      "                   ,     ,_\n",
      "                   |`\\    `;;,            ,;;'\n",
      "                   |  `\\    \\ '.        .'.'\n",
      "                   |    `\\   \\  '-\"\"\"\"-' /\n",
      "                   `.     `\\ /          |`\n",
      "                     `>    /;   _     _ \\\n",
      "                      /   / |       .    ;\n",
      "                     <  (`\";\\ ()   ~~~  (/_\n",
      "                      ';;\\  `,     __ _.-'` )\n",
      "                        >;\\          `   _.'\n",
      "                        `;;\\          \\-'\n",
      "                          ;/           \\ _\n",
      "                          |   ,\"\".     .` \\\n",
      "                          |      _|   '   /\n",
      "                           ;    /\")     .;-,\n",
      "                      jgs   \\    /  __   .-'\n",
      "                             \\,_/-\"`  `-'\n",
      "                            \n",
      "파이리의 남은 hp는75\n",
      "\n",
      "★2라운드 종료!★\n",
      "\n",
      "파이리의 공격! | miss | 피카츄의 남은 hp는90\n",
      "피카츄의 공격! | 피카츄의 백만볼트! | \n",
      "                   ,     ,_\n",
      "                   |`\\    `;;,            ,;;'\n",
      "                   |  `\\    \\ '.        .'.'\n",
      "                   |    `\\   \\  '-\"\"\"\"-' /\n",
      "                   `.     `\\ /          |`\n",
      "                     `>    /;   _     _ \\\n",
      "                      /   / |       .    ;\n",
      "                     <  (`\";\\ ()   ~~~  (/_\n",
      "                      ';;\\  `,     __ _.-'` )\n",
      "                        >;\\          `   _.'\n",
      "                        `;;\\          \\-'\n",
      "                          ;/           \\ _\n",
      "                          |   ,\"\".     .` \\\n",
      "                          |      _|   '   /\n",
      "                           ;    /\")     .;-,\n",
      "                      jgs   \\    /  __   .-'\n",
      "                             \\,_/-\"`  `-'\n",
      "                            \n",
      "파이리의 남은 hp는60\n",
      "\n",
      "★3라운드 종료!★\n",
      "\n",
      "피카츄의 공격! | 피카츄의 백만볼트! | \n",
      "                   ,     ,_\n",
      "                   |`\\    `;;,            ,;;'\n",
      "                   |  `\\    \\ '.        .'.'\n",
      "                   |    `\\   \\  '-\"\"\"\"-' /\n",
      "                   `.     `\\ /          |`\n",
      "                     `>    /;   _     _ \\\n",
      "                      /   / |       .    ;\n",
      "                     <  (`\";\\ ()   ~~~  (/_\n",
      "                      ';;\\  `,     __ _.-'` )\n",
      "                        >;\\          `   _.'\n",
      "                        `;;\\          \\-'\n",
      "                          ;/           \\ _\n",
      "                          |   ,\"\".     .` \\\n",
      "                          |      _|   '   /\n",
      "                           ;    /\")     .;-,\n",
      "                      jgs   \\    /  __   .-'\n",
      "                             \\,_/-\"`  `-'\n",
      "                            \n",
      "파이리의 남은 hp는45\n",
      "파이리의 공격! | 파이리의 몸통박치기! | \n",
      "                     _.--\"\"`-..\n",
      "                    ,'          `.\n",
      "                  ,'          __  `.\n",
      "                 /|          \" __   \\\n",
      "                , |           / |.   .\n",
      "                |,'          !_.'|   |\n",
      "              ,'             '   |   |\n",
      "             /              |`--'|   |\n",
      "            |                `---'   |\n",
      "             .   ,                   |                       ,\".\n",
      "              ._     '           _'  |                    , ' \\ `\n",
      "          `.. `.`-...___,...---\"\"    |       __,.        ,`\"   L,|\n",
      "          |, `- .`._        _,-,.'   .  __.-'-. /        .   ,    \\\n",
      "        -:..     `. `-..--_.,.<       `\"      / `.        `-/ |   .\n",
      "          `,         \"\"\"\"'     `.              ,'         |   |  ',,\n",
      "            `.      '            '            /          '    |'. |/\n",
      "              `.   |              \\       _,-'           |       ''\n",
      "                `._'               \\   '\"\\                .      |\n",
      "                   |                '     \\                `._  ,'\n",
      "                   |                 '     \\                 .'|\n",
      "                   |                 .      \\                | |\n",
      "                   |                 |       L              ,' |\n",
      "                   `                 |       |             /   '\n",
      "                    \\                |       |           ,'   /\n",
      "                  ,' \\               |  _.._ ,-..___,..-'    ,'\n",
      "                 /     .             .      `!             ,j'\n",
      "                /       `.          /        .           .'/\n",
      "               .          `.       /         |        _.'.'\n",
      "                `.          7`'---'          |------\"'_.'\n",
      "               _,.`,_     _'                ,''-----\"'\n",
      "           _,-_    '       `.     .'      ,\\\n",
      "           -\" /`.         _,'     | _  _  _.|\n",
      "            \"\"--'---\"\"\"\"\"'        `' '! |! /\n",
      "                                    `\" \" -' \n",
      "                            \n",
      "피카츄의 남은 hp는80\n",
      "\n",
      "★4라운드 종료!★\n",
      "\n",
      "피카츄의 공격! | miss | 파이리의 남은 hp는45\n",
      "파이리의 공격! | 파이리의 몸통박치기! | \n",
      "                     _.--\"\"`-..\n",
      "                    ,'          `.\n",
      "                  ,'          __  `.\n",
      "                 /|          \" __   \\\n",
      "                , |           / |.   .\n",
      "                |,'          !_.'|   |\n",
      "              ,'             '   |   |\n",
      "             /              |`--'|   |\n",
      "            |                `---'   |\n",
      "             .   ,                   |                       ,\".\n",
      "              ._     '           _'  |                    , ' \\ `\n",
      "          `.. `.`-...___,...---\"\"    |       __,.        ,`\"   L,|\n",
      "          |, `- .`._        _,-,.'   .  __.-'-. /        .   ,    \\\n",
      "        -:..     `. `-..--_.,.<       `\"      / `.        `-/ |   .\n",
      "          `,         \"\"\"\"'     `.              ,'         |   |  ',,\n",
      "            `.      '            '            /          '    |'. |/\n",
      "              `.   |              \\       _,-'           |       ''\n",
      "                `._'               \\   '\"\\                .      |\n",
      "                   |                '     \\                `._  ,'\n",
      "                   |                 '     \\                 .'|\n",
      "                   |                 .      \\                | |\n",
      "                   |                 |       L              ,' |\n",
      "                   `                 |       |             /   '\n",
      "                    \\                |       |           ,'   /\n",
      "                  ,' \\               |  _.._ ,-..___,..-'    ,'\n",
      "                 /     .             .      `!             ,j'\n",
      "                /       `.          /        .           .'/\n",
      "               .          `.       /         |        _.'.'\n",
      "                `.          7`'---'          |------\"'_.'\n",
      "               _,.`,_     _'                ,''-----\"'\n",
      "           _,-_    '       `.     .'      ,\\\n",
      "           -\" /`.         _,'     | _  _  _.|\n",
      "            \"\"--'---\"\"\"\"\"'        `' '! |! /\n",
      "                                    `\" \" -' \n",
      "                            \n",
      "피카츄의 남은 hp는70\n",
      "\n",
      "★5라운드 종료!★\n",
      "\n",
      "파이리의 공격! | 파이리의 화염방사! | \n",
      "                         .\"-,.__\n",
      "                         `.     `.  ,\n",
      "                      .--'  .._,'\"-' `.\n",
      "                     .    .'         `'\n",
      "                     `.   /          ,'\n",
      "                       `  '--.   ,-\"'\n",
      "                        `\"`   |  \\\n",
      "                           -. \\, |\n",
      "                            `--Y.'      ___.\n",
      "                                 \\     L._, \\\n",
      "                       _.,        `.   <  <\\                _\n",
      "                     ,' '           `, `.   | \\            ( `\n",
      "                  ../, `.            `  |    .\\`.           \\ \\_\n",
      "                 ,' ,..  .           _.,'    ||\\l            )  '\".\n",
      "                , ,'   \\           ,'.-.`-._,'  |           .  _._`.\n",
      "              ,' /      \\ \\        `' ' `--/   | \\          / /   ..\\\n",
      "            .'  /        \\ .         |\\__ - _ ,'` `        / /     `.`.\n",
      "            |  '          ..         `-...-\"  |  `-'      / /        . `.\n",
      "            | /           |L__           |    |          / /          `. `.\n",
      "           , /            .   .          |    |         / /             ` `\n",
      "          / /          ,. ,`._ `-_       |    |  _   ,-' /               ` \\\n",
      "         / .           \"`_/. `-_ \\_,.  ,'    +-' `-'  _,        ..,-.    \\`.\n",
      "          '         .-f    ,'   `    '.       \\__.---'     _   .'   '     \\ \\\n",
      "        ' /          `.'    l     .' /          \\..      ,_|/   `.  ,'`     L`\n",
      "        |'      _.-\"\"` `.    \\ _,'  `            \\ `.___`.'\"`-.  , |   |    | \\\n",
      "        ||    ,'      `. `.   '       _,...._        `  |    `/ '  |   '     .|\n",
      "        ||  ,'          `. ;.,.---' ,'       `.   `.. `-'  .-' /_ .'    ;_   ||\n",
      "        || '              V      / /           `   | `   ,'   ,' '.    !  `. ||\n",
      "        ||/            _,-------7 '              . |  `-'    l         /    `||\n",
      "         |          ,' .-   ,' ||               | .-.        `.      .'     ||\n",
      "         `'        ,'    `\".'    |               |    `.        '. -.'       `'\n",
      "                  /      ,'      |               |,'    \\-.._,.'/'\n",
      "                  .     /        .               .       \\    .''\n",
      "                .`.    |         `.             /         :_,'.'\n",
      "                  \\ `...\\   _     ,'-.        .'         /_.-'\n",
      "                   `-.__ `,  `'   .  _.>----''.  _  __  /\n",
      "                        .'        /\"'          |  \"'   '_\n",
      "                       /_|.-'\\ ,\".             '.'`__'-( \\\n",
      "                         / ,\"'\"\\,'               `/  `-.|\"\n",
      "                            \n",
      "피카츄의 남은 hp는55\n",
      "피카츄의 공격! | 피카츄의 몸통박치기! | \n",
      "               ,___          .-;'\n",
      "               `\"-.`\\_...._/`.`\n",
      "            ,      \\        /\n",
      "         .-' ',    / ()   ()\\\n",
      "        `'._   \\  /()    .  (|\n",
      "            > .' ;,     -'-  /\n",
      "           / <   |;,     __.;\n",
      "           '-.'-.|  , \\    , \\\n",
      "              `>.|;, \\_)    \\_)\n",
      "               `-;     ,    /\n",
      "                  \\    /   <\n",
      "                   '. <`'-,_)\n",
      "                    '._)\n",
      "                            \n",
      "파이리의 남은 hp는35\n",
      "\n",
      "★6라운드 종료!★\n",
      "\n",
      "파이리의 공격! | miss | 피카츄의 남은 hp는55\n",
      "피카츄의 공격! | 피카츄의 백만볼트! | \n",
      "                   ,     ,_\n",
      "                   |`\\    `;;,            ,;;'\n",
      "                   |  `\\    \\ '.        .'.'\n",
      "                   |    `\\   \\  '-\"\"\"\"-' /\n",
      "                   `.     `\\ /          |`\n",
      "                     `>    /;   _     _ \\\n",
      "                      /   / |       .    ;\n",
      "                     <  (`\";\\ ()   ~~~  (/_\n",
      "                      ';;\\  `,     __ _.-'` )\n",
      "                        >;\\          `   _.'\n",
      "                        `;;\\          \\-'\n",
      "                          ;/           \\ _\n",
      "                          |   ,\"\".     .` \\\n",
      "                          |      _|   '   /\n",
      "                           ;    /\")     .;-,\n",
      "                      jgs   \\    /  __   .-'\n",
      "                             \\,_/-\"`  `-'\n",
      "                            \n",
      "파이리의 남은 hp는20\n",
      "\n",
      "★7라운드 종료!★\n",
      "\n",
      "파이리의 공격! | miss | 피카츄의 남은 hp는55\n",
      "피카츄의 공격! | 피카츄의 몸통박치기! | \n",
      "               ,___          .-;'\n",
      "               `\"-.`\\_...._/`.`\n",
      "            ,      \\        /\n",
      "         .-' ',    / ()   ()\\\n",
      "        `'._   \\  /()    .  (|\n",
      "            > .' ;,     -'-  /\n",
      "           / <   |;,     __.;\n",
      "           '-.'-.|  , \\    , \\\n",
      "              `>.|;, \\_)    \\_)\n",
      "               `-;     ,    /\n",
      "                  \\    /   <\n",
      "                   '. <`'-,_)\n",
      "                    '._)\n",
      "                            \n",
      "파이리의 남은 hp는10\n",
      "\n",
      "★8라운드 종료!★\n",
      "\n",
      "파이리의 공격! | miss | 피카츄의 남은 hp는55\n",
      "피카츄의 공격! | 피카츄의 몸통박치기! | \n",
      "               ,___          .-;'\n",
      "               `\"-.`\\_...._/`.`\n",
      "            ,      \\        /\n",
      "         .-' ',    / ()   ()\\\n",
      "        `'._   \\  /()    .  (|\n",
      "            > .' ;,     -'-  /\n",
      "           / <   |;,     __.;\n",
      "           '-.'-.|  , \\    , \\\n",
      "              `>.|;, \\_)    \\_)\n",
      "               `-;     ,    /\n",
      "                  \\    /   <\n",
      "                   '. <`'-,_)\n",
      "                    '._)\n",
      "                            \n",
      "파이리의 남은 hp는0\n",
      "\n",
      "★9라운드 종료!★\n",
      "\n"
     ]
    },
    {
     "data": {
      "text/plain": [
       "'피카츄가 이겼다'"
      ]
     },
     "execution_count": 17,
     "metadata": {},
     "output_type": "execute_result"
    }
   ],
   "source": [
    "# 아래에 코드를 작성해주세요.\n",
    "    \n",
    "import random\n",
    "\n",
    "\n",
    "class Pokemon:\n",
    "    def __init__(self, name, level):\n",
    "        self.name = name\n",
    "        self.level = level\n",
    "        self.hp = level * 10\n",
    "        \n",
    "    def set_hp(self, point):\n",
    "        self.hp += point\n",
    "        \n",
    "    def check_status(self):\n",
    "        if self.hp>0:\n",
    "            return True\n",
    "        else:\n",
    "            return False\n",
    "        \n",
    "    def body_attack(self, enemy):\n",
    "        if random.choice(range(1, 4)) != 1:\n",
    "            enemy.set_hp(-10)\n",
    "        else:\n",
    "            print('miss', end = ' | ')\n",
    "            return '미스'\n",
    "    def volt_attack(self, enemy):\n",
    "        if random.choice(range(1, 4)) != 1:\n",
    "            enemy.set_hp(-15)\n",
    "        else:\n",
    "            print('miss', end = ' | ')\n",
    "            return '미스'\n",
    "a = Pokemon('피카츄', 10)\n",
    "\n",
    "b = Pokemon('파이리', 9)\n",
    "\n",
    "\n",
    "\n",
    "count = 0\n",
    "print ('''\n",
    "             _                              \n",
    "            | |                             \n",
    " _ __   ___ | | _____ _ __ ___   ___  _ __  \n",
    "| '_ \\ / _ \\| |/ / _ \\ '_ ` _ \\ / _ \\| '_ \\\\ \n",
    "| |_) | (_) |   <  __/ | | | | | (_) | | | |\n",
    "| .__/ \\___/|_|\\_\\___|_| |_| |_|\\___/|_| |_|\n",
    "| |                                         \n",
    "|_|             \n",
    "''')\n",
    "print('전투 시작')\n",
    "print()\n",
    "print()\n",
    "while a.check_status and b.check_status:\n",
    "    if random.choice(range(1, 3)) == 1:\n",
    "        \n",
    "        if a.check_status():\n",
    "            print(f'{a.name}의 공격!', end = ' | ')\n",
    "            if random.choice(range(1, 3)) == 1:\n",
    "                if a.body_attack(b) != '미스':\n",
    "                    print(f'{a.name}의 몸통박치기!', end = ' | ')\n",
    "                    print('''\n",
    "       ,___          .-;'\n",
    "       `\"-.`\\_...._/`.`\n",
    "    ,      \\        /\n",
    " .-' ',    / ()   ()\\\\\n",
    "`'._   \\  /()    .  (|\n",
    "    > .' ;,     -'-  /\n",
    "   / <   |;,     __.;\n",
    "   '-.'-.|  , \\    , \\\\\n",
    "      `>.|;, \\_)    \\_)\n",
    "       `-;     ,    /\n",
    "          \\    /   <\n",
    "           '. <`'-,_)\n",
    "            '._)\n",
    "                    ''')\n",
    "                 \n",
    "            else:\n",
    "                if a.volt_attack(b) != '미스':\n",
    "                    print(f'{a.name}의 백만볼트!', end = ' | ')\n",
    "                    print('''\n",
    "           ,     ,_\n",
    "           |`\\    `;;,            ,;;'\n",
    "           |  `\\    \\ '.        .'.'\n",
    "           |    `\\   \\  '-\"\"\"\"-' /\n",
    "           `.     `\\ /          |`\n",
    "             `>    /;   _     _ \\\\\n",
    "              /   / |       .    ;\n",
    "             <  (`\";\\ ()   ~~~  (/_\n",
    "              ';;\\  `,     __ _.-'` )\n",
    "                >;\\          `   _.'\n",
    "                `;;\\          \\-'\n",
    "                  ;/           \\ _\n",
    "                  |   ,\"\".     .` \\\\\n",
    "                  |      _|   '   /\n",
    "                   ;    /\")     .;-,\n",
    "              jgs   \\    /  __   .-'\n",
    "                     \\,_/-\"`  `-'\n",
    "                    ''')\n",
    "            print(f'{b.name}의 남은 hp는{b.hp}')\n",
    "\n",
    "        if not a.check_status():\n",
    "            return f'{b.name}가 이겼다'\n",
    "    \n",
    "     \n",
    "        if b.check_status():\n",
    "            print(f'{b.name}의 공격!', end = ' | ')   \n",
    "            if random.choice(range(1, 3)) == 1:\n",
    "                if b.body_attack(a) != '미스':\n",
    "                    print(f'{b.name}의 몸통박치기!', end = ' | ')\n",
    "                    print('''\n",
    "             _.--\"\"`-..\n",
    "            ,'          `.\n",
    "          ,'          __  `.\n",
    "         /|          \" __   \\\\\n",
    "        , |           / |.   .\n",
    "        |,'          !_.'|   |\n",
    "      ,'             '   |   |\n",
    "     /              |`--'|   |\n",
    "    |                `---'   |\n",
    "     .   ,                   |                       ,\".\n",
    "      ._     '           _'  |                    , ' \\ `\n",
    "  `.. `.`-...___,...---\"\"    |       __,.        ,`\"   L,|\n",
    "  |, `- .`._        _,-,.'   .  __.-'-. /        .   ,    \\\\\n",
    "-:..     `. `-..--_.,.<       `\"      / `.        `-/ |   .\n",
    "  `,         \"\"\"\"'     `.              ,'         |   |  ',,\n",
    "    `.      '            '            /          '    |'. |/\n",
    "      `.   |              \\       _,-'           |       ''\n",
    "        `._'               \\   '\"\\                .      |\n",
    "           |                '     \\                `._  ,'\n",
    "           |                 '     \\                 .'|\n",
    "           |                 .      \\                | |\n",
    "           |                 |       L              ,' |\n",
    "           `                 |       |             /   '\n",
    "            \\                |       |           ,'   /\n",
    "          ,' \\               |  _.._ ,-..___,..-'    ,'\n",
    "         /     .             .      `!             ,j'\n",
    "        /       `.          /        .           .'/\n",
    "       .          `.       /         |        _.'.'\n",
    "        `.          7`'---'          |------\"'_.'\n",
    "       _,.`,_     _'                ,''-----\"'\n",
    "   _,-_    '       `.     .'      ,\\\\\n",
    "   -\" /`.         _,'     | _  _  _.|\n",
    "    \"\"--'---\"\"\"\"\"'        `' '! |! /\n",
    "                            `\" \" -' \n",
    "                    ''')\n",
    "            else:\n",
    "                if b.volt_attack(a) != '미스':\n",
    "                    print(f'{b.name}의 화염방사!', end = ' | ')\n",
    "                    print('''\n",
    "                 .\"-,.__\n",
    "                 `.     `.  ,\n",
    "              .--'  .._,'\"-' `.\n",
    "             .    .'         `'\n",
    "             `.   /          ,'\n",
    "               `  '--.   ,-\"'\n",
    "                `\"`   |  \\\\\n",
    "                   -. \\, |\n",
    "                    `--Y.'      ___.\n",
    "                         \\     L._, \\\\\n",
    "               _.,        `.   <  <\\                _\n",
    "             ,' '           `, `.   | \\            ( `\n",
    "          ../, `.            `  |    .\\`.           \\ \\_\n",
    "         ,' ,..  .           _.,'    ||\\l            )  '\".\n",
    "        , ,'   \\           ,'.-.`-._,'  |           .  _._`.\n",
    "      ,' /      \\ \\        `' ' `--/   | \\          / /   ..\\\\\n",
    "    .'  /        \\ .         |\\__ - _ ,'` `        / /     `.`.\n",
    "    |  '          ..         `-...-\"  |  `-'      / /        . `.\n",
    "    | /           |L__           |    |          / /          `. `.\n",
    "   , /            .   .          |    |         / /             ` `\n",
    "  / /          ,. ,`._ `-_       |    |  _   ,-' /               ` \\\\\n",
    " / .           \\\"`_/. `-_ \\_,.  ,'    +-' `-'  _,        ..,-.    \\`.\n",
    "  '         .-f    ,'   `    '.       \\__.---'     _   .'   '     \\ \\\\\n",
    "' /          `.'    l     .' /          \\..      ,_|/   `.  ,'`     L`\n",
    "|'      _.-\"\"` `.    \\ _,'  `            \\ `.___`.'\"`-.  , |   |    | \\\\\n",
    "||    ,'      `. `.   '       _,...._        `  |    `/ '  |   '     .|\n",
    "||  ,'          `. ;.,.---' ,'       `.   `.. `-'  .-' /_ .'    ;_   ||\n",
    "|| '              V      / /           `   | `   ,'   ,' '.    !  `. ||\n",
    "||/            _,-------7 '              . |  `-'    l         /    `||\n",
    " |          ,' .-   ,' ||               | .-.        `.      .'     ||\n",
    " `'        ,'    `\".'    |               |    `.        '. -.'       `'\n",
    "          /      ,'      |               |,'    \\-.._,.'/'\n",
    "          .     /        .               .       \\    .''\n",
    "        .`.    |         `.             /         :_,'.'\n",
    "          \\ `...\\   _     ,'-.        .'         /_.-'\n",
    "           `-.__ `,  `'   .  _.>----''.  _  __  /\n",
    "                .'        /\"'          |  \"'   '_\n",
    "               /_|.-'\\ ,\".             '.'`__'-( \\\\\n",
    "                 / ,\"'\"\\,'               `/  `-.|\"\n",
    "                    ''')\n",
    "            print(f'{a.name}의 남은 hp는{a.hp}')\n",
    "\n",
    "        if not b.check_status():\n",
    "            return f'{a.name}가 이겼다'\n",
    "    else:\n",
    "        \n",
    "        if b.check_status():\n",
    "            print(f'{b.name}의 공격!', end = ' | ')   \n",
    "            if random.choice(range(1, 3)) == 1:\n",
    "                if b.body_attack(a) != '미스':\n",
    "                    print(f'{b.name}의 몸통박치기!', end = ' | ')\n",
    "                    print('''\n",
    "             _.--\"\"`-..\n",
    "            ,'          `.\n",
    "          ,'          __  `.\n",
    "         /|          \" __   \\\\\n",
    "        , |           / |.   .\n",
    "        |,'          !_.'|   |\n",
    "      ,'             '   |   |\n",
    "     /              |`--'|   |\n",
    "    |                `---'   |\n",
    "     .   ,                   |                       ,\".\n",
    "      ._     '           _'  |                    , ' \\ `\n",
    "  `.. `.`-...___,...---\"\"    |       __,.        ,`\"   L,|\n",
    "  |, `- .`._        _,-,.'   .  __.-'-. /        .   ,    \\\\\n",
    "-:..     `. `-..--_.,.<       `\"      / `.        `-/ |   .\n",
    "  `,         \"\"\"\"'     `.              ,'         |   |  ',,\n",
    "    `.      '            '            /          '    |'. |/\n",
    "      `.   |              \\       _,-'           |       ''\n",
    "        `._'               \\   '\"\\                .      |\n",
    "           |                '     \\                `._  ,'\n",
    "           |                 '     \\                 .'|\n",
    "           |                 .      \\                | |\n",
    "           |                 |       L              ,' |\n",
    "           `                 |       |             /   '\n",
    "            \\                |       |           ,'   /\n",
    "          ,' \\               |  _.._ ,-..___,..-'    ,'\n",
    "         /     .             .      `!             ,j'\n",
    "        /       `.          /        .           .'/\n",
    "       .          `.       /         |        _.'.'\n",
    "        `.          7`'---'          |------\"'_.'\n",
    "       _,.`,_     _'                ,''-----\"'\n",
    "   _,-_    '       `.     .'      ,\\\\\n",
    "   -\" /`.         _,'     | _  _  _.|\n",
    "    \"\"--'---\"\"\"\"\"'        `' '! |! /\n",
    "                            `\" \" -' \n",
    "                    ''')\n",
    "            else:\n",
    "                if b.volt_attack(a) != '미스':\n",
    "                    print(f'{b.name}의 화염방사!', end = ' | ')\n",
    "                    print('''\n",
    "                 .\"-,.__\n",
    "                 `.     `.  ,\n",
    "              .--'  .._,'\"-' `.\n",
    "             .    .'         `'\n",
    "             `.   /          ,'\n",
    "               `  '--.   ,-\"'\n",
    "                `\"`   |  \\\\\n",
    "                   -. \\, |\n",
    "                    `--Y.'      ___.\n",
    "                         \\     L._, \\\\\n",
    "               _.,        `.   <  <\\                _\n",
    "             ,' '           `, `.   | \\            ( `\n",
    "          ../, `.            `  |    .\\`.           \\ \\_\n",
    "         ,' ,..  .           _.,'    ||\\l            )  '\".\n",
    "        , ,'   \\           ,'.-.`-._,'  |           .  _._`.\n",
    "      ,' /      \\ \\        `' ' `--/   | \\          / /   ..\\\\\n",
    "    .'  /        \\ .         |\\__ - _ ,'` `        / /     `.`.\n",
    "    |  '          ..         `-...-\"  |  `-'      / /        . `.\n",
    "    | /           |L__           |    |          / /          `. `.\n",
    "   , /            .   .          |    |         / /             ` `\n",
    "  / /          ,. ,`._ `-_       |    |  _   ,-' /               ` \\\\\n",
    " / .           \\\"`_/. `-_ \\_,.  ,'    +-' `-'  _,        ..,-.    \\`.\n",
    "  '         .-f    ,'   `    '.       \\__.---'     _   .'   '     \\ \\\\\n",
    "' /          `.'    l     .' /          \\..      ,_|/   `.  ,'`     L`\n",
    "|'      _.-\"\"` `.    \\ _,'  `            \\ `.___`.'\"`-.  , |   |    | \\\\\n",
    "||    ,'      `. `.   '       _,...._        `  |    `/ '  |   '     .|\n",
    "||  ,'          `. ;.,.---' ,'       `.   `.. `-'  .-' /_ .'    ;_   ||\n",
    "|| '              V      / /           `   | `   ,'   ,' '.    !  `. ||\n",
    "||/            _,-------7 '              . |  `-'    l         /    `||\n",
    " |          ,' .-   ,' ||               | .-.        `.      .'     ||\n",
    " `'        ,'    `\".'    |               |    `.        '. -.'       `'\n",
    "          /      ,'      |               |,'    \\-.._,.'/'\n",
    "          .     /        .               .       \\    .''\n",
    "        .`.    |         `.             /         :_,'.'\n",
    "          \\ `...\\   _     ,'-.        .'         /_.-'\n",
    "           `-.__ `,  `'   .  _.>----''.  _  __  /\n",
    "                .'        /\"'          |  \"'   '_\n",
    "               /_|.-'\\ ,\".             '.'`__'-( \\\\\n",
    "                 / ,\"'\"\\,'               `/  `-.|\"\n",
    "                    ''')\n",
    "            print(f'{a.name}의 남은 hp는{a.hp}')\n",
    "\n",
    "        if not b.check_status():\n",
    "            return f'{a.name}가 이겼다'\n",
    "        \n",
    "        if a.check_status():\n",
    "            print(f'{a.name}의 공격!', end = ' | ')\n",
    "            if random.choice(range(1, 3)) == 1:\n",
    "                if a.body_attack(b) != '미스':\n",
    "                    print(f'{a.name}의 몸통박치기!', end = ' | ')\n",
    "                    print('''\n",
    "       ,___          .-;'\n",
    "       `\"-.`\\_...._/`.`\n",
    "    ,      \\        /\n",
    " .-' ',    / ()   ()\\\\\n",
    "`'._   \\  /()    .  (|\n",
    "    > .' ;,     -'-  /\n",
    "   / <   |;,     __.;\n",
    "   '-.'-.|  , \\    , \\\\\n",
    "      `>.|;, \\_)    \\_)\n",
    "       `-;     ,    /\n",
    "          \\    /   <\n",
    "           '. <`'-,_)\n",
    "            '._)\n",
    "                    ''')\n",
    "                 \n",
    "            else:\n",
    "                if a.volt_attack(b) != '미스':\n",
    "                    print(f'{a.name}의 백만볼트!', end = ' | ')\n",
    "                    print('''\n",
    "           ,     ,_\n",
    "           |`\\    `;;,            ,;;'\n",
    "           |  `\\    \\ '.        .'.'\n",
    "           |    `\\   \\  '-\"\"\"\"-' /\n",
    "           `.     `\\ /          |`\n",
    "             `>    /;   _     _ \\\\\n",
    "              /   / |       .    ;\n",
    "             <  (`\";\\ ()   ~~~  (/_\n",
    "              ';;\\  `,     __ _.-'` )\n",
    "                >;\\          `   _.'\n",
    "                `;;\\          \\-'\n",
    "                  ;/           \\ _\n",
    "                  |   ,\"\".     .` \\\\\n",
    "                  |      _|   '   /\n",
    "                   ;    /\")     .;-,\n",
    "              jgs   \\    /  __   .-'\n",
    "                     \\,_/-\"`  `-'\n",
    "                    ''')\n",
    "            print(f'{b.name}의 남은 hp는{b.hp}')\n",
    "\n",
    "        if not a.check_status():\n",
    "            return f'{b.name}가 이겼다'\n",
    "        \n",
    "    count += 1\n",
    "    print()\n",
    "    print(f'★{count}라운드 종료!★')\n",
    "    print()\n"
   ]
  }
 ],
 "metadata": {
  "kernelspec": {
   "display_name": "Python 3",
   "language": "python",
   "name": "python3"
  },
  "language_info": {
   "codemirror_mode": {
    "name": "ipython",
    "version": 3
   },
   "file_extension": ".py",
   "mimetype": "text/x-python",
   "name": "python",
   "nbconvert_exporter": "python",
   "pygments_lexer": "ipython3",
   "version": "3.7.1"
  },
  "latex_envs": {
   "LaTeX_envs_menu_present": true,
   "autoclose": false,
   "autocomplete": true,
   "bibliofile": "biblio.bib",
   "cite_by": "apalike",
   "current_citInitial": 1,
   "eqLabelWithNumbers": true,
   "eqNumInitial": 1,
   "hotkeys": {
    "equation": "Ctrl-E",
    "itemize": "Ctrl-I"
   },
   "labels_anchors": false,
   "latex_user_defs": false,
   "report_style_numbering": false,
   "user_envs_cfg": false
  },
  "toc": {
   "base_numbering": 1,
   "nav_menu": {},
   "number_sections": true,
   "sideBar": true,
   "skip_h1_title": false,
   "title_cell": "Table of Contents",
   "title_sidebar": "Contents",
   "toc_cell": false,
   "toc_position": {},
   "toc_section_display": true,
   "toc_window_display": false
  }
 },
 "nbformat": 4,
 "nbformat_minor": 2
}

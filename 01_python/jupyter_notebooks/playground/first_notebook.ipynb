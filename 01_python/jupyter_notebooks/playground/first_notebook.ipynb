{
 "cells": [
  {
   "cell_type": "code",
   "execution_count": 4,
   "metadata": {},
   "outputs": [
    {
     "name": "stdout",
     "output_type": "stream",
     "text": [
      "3\n",
      "210.0\n"
     ]
    }
   ],
   "source": [
    "num1 = 42\n",
    "num2 = 15\n",
    "a=num1\n",
    "b=num2\n",
    "\n",
    "remains = 1\n",
    "\n",
    "while remains > 0 :\n",
    "    remains = a % b\n",
    "    a = b\n",
    "    b = remains\n",
    "    \n",
    "gcd = a\n",
    "\n",
    "lcm = num1*num2/gcd\n",
    "\n",
    "print(gcd)\n",
    "print(lcm)"
   ]
  },
  {
   "cell_type": "code",
   "execution_count": 3,
   "metadata": {},
   "outputs": [
    {
     "name": "stdout",
     "output_type": "stream",
     "text": [
      "1\n",
      "2\n"
     ]
    }
   ],
   "source": [
    "a=input()\n",
    "b=input()"
   ]
  }
 ],
 "metadata": {
  "kernelspec": {
   "display_name": "Python 3",
   "language": "python",
   "name": "python3"
  },
  "language_info": {
   "codemirror_mode": {
    "name": "ipython",
    "version": 3
   },
   "file_extension": ".py",
   "mimetype": "text/x-python",
   "name": "python",
   "nbconvert_exporter": "python",
   "pygments_lexer": "ipython3",
   "version": "3.7.1"
  }
 },
 "nbformat": 4,
 "nbformat_minor": 2
}

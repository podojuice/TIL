{
 "cells": [
  {
   "cell_type": "markdown",
   "metadata": {},
   "source": [
    "# 190104 homework\n",
    "\n",
    "\n",
    "## 1. True/False\n",
    "\n",
    "1-1 X\n",
    "\n",
    "1-2 X\n",
    "\n",
    "1-3 X\n",
    "\n",
    "1-4 O\n",
    "\n",
    "\n",
    "## 2. 다음 unix 명령어들에 대하여 간략하게 기술하세요.\n",
    "\n",
    "2-1. ls : 현재 위치에 있는 폴더들을 나열해준다.\n",
    "\n",
    "2-2 cd: 디렉토리를 옮겨다니기 위해 쓰이는 명령어다.\n",
    "\n",
    "2-3 mkdir: 디렉토리를 만들기 위해 쓰이는 명령어다.\n",
    "\n",
    "2-4 touch: 파일을 만들기 위해 쓰이는 명령어다.\n",
    "\n",
    "\n",
    "## 3. CLI에 익숙해지게 되면, Tab 키를 매우 빈번하게 사용하게 된다. 이유는?\n",
    "\n",
    "- 이전에 입력했던 무언가가 있다면, 어느정도만 입력한 뒤 tab 키를 사용하면, 모두 적지 않아도 자동으로 이전에 입력했던 무언가를 완성해주기 때문."
   ]
  }
 ],
 "metadata": {
  "kernelspec": {
   "display_name": "Python 3",
   "language": "python",
   "name": "python3"
  },
  "language_info": {
   "codemirror_mode": {
    "name": "ipython",
    "version": 3
   },
   "file_extension": ".py",
   "mimetype": "text/x-python",
   "name": "python",
   "nbconvert_exporter": "python",
   "pygments_lexer": "ipython3",
   "version": "3.6.7"
  }
 },
 "nbformat": 4,
 "nbformat_minor": 2
}

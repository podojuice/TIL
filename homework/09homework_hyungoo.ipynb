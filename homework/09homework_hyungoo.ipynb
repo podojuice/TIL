{
 "cells": [
  {
   "cell_type": "markdown",
   "metadata": {},
   "source": [
    "# 09homework HTML"
   ]
  },
  {
   "cell_type": "markdown",
   "metadata": {},
   "source": [
    "1. HTML은 무엇의 약자인가?\n",
    "정답: 3번  HyperText Markup Language"
   ]
  },
  {
   "cell_type": "markdown",
   "metadata": {},
   "source": [
    "2. 다음 중 맞으면 T, 틀리면 F를 기입 하시오.\n",
    "\n",
    "〮웹표준을 만드는 곳은 Mozilla 재단이다.[ X ]\n",
    "\n",
    "〮표(table) 을만들 때에는 반드시 <th> 태그를 사용해야 한다.[ X ]\n",
    "\n",
    "〮제목(Heading) 태그는 제목 이외에는 사용하지 않는 것이 좋다.[ X ]\n",
    "\n",
    "〮인용문을 가리키는 태그는 <blockquote> 이다.[ O ]"
   ]
  },
  {
   "cell_type": "markdown",
   "metadata": {},
   "source": [
    "3. 보기중콘텐츠의 의미를 명확히 하기 위해 HTML5 에서 새롭게 추가된 시맨틱(semantic) 태그를 모두 선택 하시오. [ article, div, footer, nav, head, container ]\n",
    "\n",
    "정답: article, footer, nav\n"
   ]
  },
  {
   "cell_type": "code",
   "execution_count": 3,
   "metadata": {},
   "outputs": [
    {
     "ename": "IndentationError",
     "evalue": "unindent does not match any outer indentation level (<tokenize>, line 16)",
     "output_type": "error",
     "traceback": [
      "\u001b[1;36m  File \u001b[1;32m\"<tokenize>\"\u001b[1;36m, line \u001b[1;32m16\u001b[0m\n\u001b[1;33m    </form>\u001b[0m\n\u001b[1;37m    ^\u001b[0m\n\u001b[1;31mIndentationError\u001b[0m\u001b[1;31m:\u001b[0m unindent does not match any outer indentation level\n"
     ]
    }
   ],
   "source": [
    "4. 아래이미지와 같은 로그인 화면을 생성하는 html 코드를 작성하시오.\n",
    "\n",
    "# <head>\n",
    "    \n",
    "# </head>\n",
    "# <body>\n",
    "#     <form>\n",
    "#         <label for=\"username\">ID:</label>\n",
    "        \n",
    "# \t\t\t\t<input id=\"username\" name=\"username\" type=\"text\">\n",
    "#         <br>\n",
    "#         <label for=\"pw\">PWD:</label>\n",
    "        \n",
    "# \t\t\t\t<input id=\"pw\" name=\"pw\" type=\"password\">\n",
    "#         <input type=\"submit\" value=\"로그인\">\n",
    "#       </form>\n",
    "# </body>\n",
    "# </html>\n"
   ]
  }
 ],
 "metadata": {
  "kernelspec": {
   "display_name": "Python 3",
   "language": "python",
   "name": "python3"
  },
  "language_info": {
   "codemirror_mode": {
    "name": "ipython",
    "version": 3
   },
   "file_extension": ".py",
   "mimetype": "text/x-python",
   "name": "python",
   "nbconvert_exporter": "python",
   "pygments_lexer": "ipython3",
   "version": "3.6.7"
  }
 },
 "nbformat": 4,
 "nbformat_minor": 2
}

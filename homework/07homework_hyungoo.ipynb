{
 "cells": [
  {
   "cell_type": "markdown",
   "metadata": {},
   "source": [
    "## 07homework OOP"
   ]
  },
  {
   "cell_type": "markdown",
   "metadata": {},
   "source": [
    "1. 파이썬에서은 객체지향프로그래밍 언어입니다. 파이썬에서 기본적으로 정의된 클래스 5개만 작성해보세요.\n"
   ]
  },
  {
   "cell_type": "markdown",
   "metadata": {},
   "source": [
    "답: list, str, int, tuple, set"
   ]
  },
  {
   "cell_type": "markdown",
   "metadata": {},
   "source": [
    "2. 다음 중 틀린 것은?\n"
   ]
  },
  {
   "cell_type": "markdown",
   "metadata": {},
   "source": [
    "(5) 숫자 5는 그냥 숫자일 뿐 클래스가 없다."
   ]
  },
  {
   "cell_type": "markdown",
   "metadata": {},
   "source": [
    "3. Person 클래스를 정의하고, 이름이 ‘홍길동’, 나이가 20인 p1 인스턴스 객체를 만들어보세요. 이름이 ‘둘리’, 나이가 0인 p2 인스턴스 객체를 만들어보세요.\n",
    "\n",
    "인스턴스 속성 : name, age 메서드 : greeting()\n",
    "\n",
    "인스턴스 생성시 이름과 나이를 받으며, 나이가 없는 경우 0으로 설정한다. greeting이 호출되면, 아래와 같이 문자열을 반환한다.\n"
   ]
  },
  {
   "cell_type": "code",
   "execution_count": 8,
   "metadata": {},
   "outputs": [],
   "source": [
    "class Person:\n",
    "    def __init__(self, name, age=0):\n",
    "        self.name = name\n",
    "        self.age = age\n",
    "        \n",
    "    def greeting(self):\n",
    "        print(f'안녕하세요, {self.name}입니다. {self.age}살입니다.')\n",
    "        \n",
    "    "
   ]
  },
  {
   "cell_type": "code",
   "execution_count": 9,
   "metadata": {},
   "outputs": [
    {
     "name": "stdout",
     "output_type": "stream",
     "text": [
      "안녕하세요, 홍길동입니다. 20살입니다.\n"
     ]
    }
   ],
   "source": [
    "p1 = Person('홍길동', 20)\n",
    "p1.greeting()"
   ]
  },
  {
   "cell_type": "code",
   "execution_count": 10,
   "metadata": {},
   "outputs": [
    {
     "name": "stdout",
     "output_type": "stream",
     "text": [
      "안녕하세요, 둘리입니다. 0살입니다.\n"
     ]
    }
   ],
   "source": [
    "p2 = Person('둘리')\n",
    "p2.greeting()"
   ]
  }
 ],
 "metadata": {
  "kernelspec": {
   "display_name": "Python 3",
   "language": "python",
   "name": "python3"
  },
  "language_info": {
   "codemirror_mode": {
    "name": "ipython",
    "version": 3
   },
   "file_extension": ".py",
   "mimetype": "text/x-python",
   "name": "python",
   "nbconvert_exporter": "python",
   "pygments_lexer": "ipython3",
   "version": "3.6.7"
  }
 },
 "nbformat": 4,
 "nbformat_minor": 2
}
